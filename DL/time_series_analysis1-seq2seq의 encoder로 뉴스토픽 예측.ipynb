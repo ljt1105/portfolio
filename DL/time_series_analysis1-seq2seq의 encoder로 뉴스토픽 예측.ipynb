{
 "cells": [
  {
   "cell_type": "markdown",
   "metadata": {},
   "source": [
    "## Seq2Seq의 Encoder로 뉴스기사 토픽 예측"
   ]
  },
  {
   "cell_type": "code",
   "execution_count": 4,
   "metadata": {},
   "outputs": [],
   "source": [
    "import tensorflow as tf\n",
    "from tensorflow import keras\n",
    "from keras.layers import Dense\n",
    "from keras.models import Sequential\n",
    "\n",
    "import pandas as pd\n",
    "import numpy as np\n",
    "import matplotlib.pyplot as plt\n",
    "import seaborn as sns\n",
    "import warnings\n",
    "from IPython.display import Image\n",
    "\n",
    "warnings.filterwarnings('ignore')\n",
    "%matplotlib inline\n",
    "\n",
    "SEED = 34"
   ]
  },
  {
   "cell_type": "markdown",
   "metadata": {},
   "source": [
    "## 도입전 기본 처리"
   ]
  },
  {
   "cell_type": "code",
   "execution_count": 6,
   "metadata": {},
   "outputs": [
    {
     "name": "stdout",
     "output_type": "stream",
     "text": [
      "Downloading data from https://storage.googleapis.com/tensorflow/tf-keras-datasets/reuters.npz\n",
      "2113536/2110848 [==============================] - 0s 0us/step\n",
      "2121728/2110848 [==============================] - 0s 0us/step\n"
     ]
    }
   ],
   "source": [
    "# 데이터 불러오기\n",
    "reuters = keras.datasets.reuters\n",
    "(train_text, train_topic), (test_text, test_topic) = reuters.load_data()"
   ]
  },
  {
   "cell_type": "code",
   "execution_count": 7,
   "metadata": {},
   "outputs": [
    {
     "name": "stdout",
     "output_type": "stream",
     "text": [
      "(8982,)\n",
      "(8982,)\n",
      "(2246,)\n",
      "(2246,)\n"
     ]
    }
   ],
   "source": [
    "# 데이터 크기 출력\n",
    "print(train_text.shape)\n",
    "print(train_topic.shape)\n",
    "print(test_text.shape)\n",
    "print(test_topic.shape)"
   ]
  },
  {
   "cell_type": "code",
   "execution_count": 8,
   "metadata": {},
   "outputs": [
    {
     "name": "stdout",
     "output_type": "stream",
     "text": [
      "object object\n",
      "int64 int64\n"
     ]
    }
   ],
   "source": [
    "# 데이터 타입 출력\n",
    "print(train_text.dtype, test_text.dtype)\n",
    "print(train_topic.dtype, test_topic.dtype)"
   ]
  },
  {
   "cell_type": "code",
   "execution_count": 9,
   "metadata": {},
   "outputs": [
    {
     "data": {
      "text/plain": [
       "<BarContainer object of 8982 artists>"
      ]
     },
     "execution_count": 9,
     "metadata": {},
     "output_type": "execute_result"
    },
    {
     "data": {
      "image/png": "[encoded data removed]",
      "text/plain": [
       "<Figure size 432x288 with 1 Axes>"
      ]
     },
     "metadata": {
      "needs_background": "light"
     },
     "output_type": "display_data"
    }
   ],
   "source": [
    "#train_text에서 각 원소의 길이를 y축으로 bar plot 그리기\n",
    "plt.bar(range(len(train_text)), [len(text) for text in train_text])"
   ]
  },
  {
   "cell_type": "markdown",
   "metadata": {},
   "source": [
    "## 전처리"
   ]
  },
  {
   "cell_type": "code",
   "execution_count": 10,
   "metadata": {},
   "outputs": [],
   "source": [
    "# train_text, test_text에서 등장한 정수 알아보기\n",
    "all_words = set([word for text in train_text for word in text]) | set([word for text in test_text for word in text])"
   ]
  },
  {
   "cell_type": "code",
   "execution_count": 11,
   "metadata": {},
   "outputs": [
    {
     "name": "stdout",
     "output_type": "stream",
     "text": [
      "[1, 2, 4, 5, 6]\n",
      "[30977, 30978, 30979, 30980, 30981]\n"
     ]
    }
   ],
   "source": [
    "print(sorted(all_words)[:5])\n",
    "print(sorted(all_words)[-5:])"
   ]
  },
  {
   "cell_type": "code",
   "execution_count": 12,
   "metadata": {},
   "outputs": [],
   "source": [
    "# train_text와 test_text를 BOW형태로 변경\n",
    "train_bow_text = tf.keras.preprocessing.sequence.pad_sequences(train_text, value = 0)\n",
    "test_bow_text = tf.keras.preprocessing.sequence.pad_sequences(test_text, value = 0)"
   ]
  },
  {
   "cell_type": "code",
   "execution_count": 13,
   "metadata": {},
   "outputs": [
    {
     "data": {
      "text/plain": [
       "((8982, 2376), (2246, 1032))"
      ]
     },
     "execution_count": 13,
     "metadata": {},
     "output_type": "execute_result"
    }
   ],
   "source": [
    "(train_bow_text.shape, test_bow_text.shape)"
   ]
  },
  {
   "cell_type": "code",
   "execution_count": 14,
   "metadata": {},
   "outputs": [
    {
     "data": {
      "text/plain": [
       "[(4, 82723),\n",
       " (5, 42393),\n",
       " (6, 40350),\n",
       " (7, 33157),\n",
       " (8, 29978),\n",
       " (9, 29956),\n",
       " (10, 29581),\n",
       " (11, 20141),\n",
       " (12, 16668),\n",
       " (13, 15224)]"
      ]
     },
     "execution_count": 14,
     "metadata": {},
     "output_type": "execute_result"
    }
   ],
   "source": [
    "# train과 test에 나온 word의 count 측정\n",
    "import collections\n",
    "word_count = collections.Counter()\n",
    "for text in train_text:\n",
    "    word_count.update(text)\n",
    "for text in test_text:\n",
    "    word_count.update(text)\n",
    "\n",
    "word_count.most_common(10)"
   ]
  },
  {
   "cell_type": "code",
   "execution_count": 15,
   "metadata": {},
   "outputs": [],
   "source": [
    "# word_count를 이용해서 n번 이하로 나온 word를 삭제하여 train, test 구성\n",
    "def cut_by_count(texts, n):\n",
    "    return np.array([[word for word in text if word_count[word] >= n] for text in texts])"
   ]
  },
  {
   "cell_type": "code",
   "execution_count": 16,
   "metadata": {},
   "outputs": [],
   "source": [
    "train_cut_text = cut_by_count(train_text, 20)\n",
    "test_cut_text = cut_by_count(test_text, 20)"
   ]
  },
  {
   "cell_type": "code",
   "execution_count": 17,
   "metadata": {},
   "outputs": [
    {
     "data": {
      "text/plain": [
       "((8982,), (2246,))"
      ]
     },
     "execution_count": 17,
     "metadata": {},
     "output_type": "execute_result"
    }
   ],
   "source": [
    "train_cut_text.shape, test_cut_text.shape"
   ]
  },
  {
   "cell_type": "code",
   "execution_count": 19,
   "metadata": {},
   "outputs": [],
   "source": [
    "# bow 형태로 변환 후 width 확인\n",
    "train_cut_bow_text = tf.keras.preprocessing.sequence.pad_sequences(train_cut_text, value=0)\n",
    "test_cut_bow_text = tf.keras.preprocessing.sequence.pad_sequences(test_cut_text, value=0)"
   ]
  },
  {
   "cell_type": "code",
   "execution_count": 20,
   "metadata": {},
   "outputs": [
    {
     "data": {
      "text/plain": [
       "((8982, 2266), (2246, 995))"
      ]
     },
     "execution_count": 20,
     "metadata": {},
     "output_type": "execute_result"
    }
   ],
   "source": [
    "train_cut_bow_text.shape, test_cut_bow_text.shape"
   ]
  },
  {
   "cell_type": "code",
   "execution_count": 22,
   "metadata": {},
   "outputs": [],
   "source": [
    "# train_text/test_text에 길이 제한을 주고 bow를 생성\n",
    "train_cut_bow_text2 = tf.keras.preprocessing.sequence.pad_sequences(train_text, value=0, maxlen=200)\n",
    "test_cut_bow_text2 = tf.keras.preprocessing.sequence.pad_sequences(test_text, value=0, maxlen=200)"
   ]
  },
  {
   "cell_type": "code",
   "execution_count": 23,
   "metadata": {},
   "outputs": [
    {
     "data": {
      "text/plain": [
       "((8982, 200), (2246, 200))"
      ]
     },
     "execution_count": 23,
     "metadata": {},
     "output_type": "execute_result"
    }
   ],
   "source": [
    "train_cut_bow_text2.shape, test_cut_bow_text2.shape"
   ]
  },
  {
   "cell_type": "code",
   "execution_count": 24,
   "metadata": {},
   "outputs": [
    {
     "data": {
      "text/plain": [
       "array([ 0,  1,  2,  3,  4,  5,  6,  7,  8,  9, 10, 11, 12, 13, 14, 15, 16,\n",
       "       17, 18, 19, 20, 21, 22, 23, 24, 25, 26, 27, 28, 29, 30, 31, 32, 33,\n",
       "       34, 35, 36, 37, 38, 39, 40, 41, 42, 43, 44, 45], dtype=int64)"
      ]
     },
     "execution_count": 24,
     "metadata": {},
     "output_type": "execute_result"
    }
   ],
   "source": [
    "# topic을 onehot encoding으로 변경\n",
    "np.unique(train_topic)"
   ]
  },
  {
   "cell_type": "code",
   "execution_count": 25,
   "metadata": {},
   "outputs": [],
   "source": [
    "train_onehot_topic = keras.utils.to_categorical(train_topic)\n",
    "test_onehot_topic = keras.utils.to_categorical(test_topic)"
   ]
  },
  {
   "cell_type": "code",
   "execution_count": 26,
   "metadata": {},
   "outputs": [
    {
     "data": {
      "text/plain": [
       "((8982, 46), (2246, 46))"
      ]
     },
     "execution_count": 26,
     "metadata": {},
     "output_type": "execute_result"
    }
   ],
   "source": [
    "train_onehot_topic.shape, test_onehot_topic.shape"
   ]
  },
  {
   "cell_type": "code",
   "execution_count": 27,
   "metadata": {},
   "outputs": [],
   "source": [
    "# topic 인덱스를 text label로 변환하는 함수 만들기\n",
    "raw_labels = ['cocoa','grain','veg-oil','earn','acq','wheat','copper','housing','money-supply',\n",
    "   'coffee','sugar','trade','reserves','ship','cotton','carcass','crude','nat-gas',\n",
    "   'cpi','money-fx','interest','gnp','meal-feed','alum','oilseed','gold','tin',\n",
    "   'strategic-metal','livestock','retail','ipi','iron-steel','rubber','heat','jobs',\n",
    "   'lei','bop','zinc','orange','pet-chem','dlr','gas','silver','wpi','hog','lead']\n",
    "\n",
    "def topic2label(idx):\n",
    "    return raw_labels[idx]"
   ]
  },
  {
   "cell_type": "code",
   "execution_count": 28,
   "metadata": {},
   "outputs": [
    {
     "name": "stdout",
     "output_type": "stream",
     "text": [
      "cocoa\n",
      "lead\n"
     ]
    }
   ],
   "source": [
    "print(topic2label(0))\n",
    "print(topic2label(45))"
   ]
  },
  {
   "cell_type": "markdown",
   "metadata": {},
   "source": [
    "## 3. 시각화 방법"
   ]
  },
  {
   "cell_type": "code",
   "execution_count": 29,
   "metadata": {},
   "outputs": [
    {
     "data": {
      "image/png": "[encoded data removed]",
      "text/plain": [
       "<Figure size 432x288 with 1 Axes>"
      ]
     },
     "metadata": {
      "needs_background": "light"
     },
     "output_type": "display_data"
    }
   ],
   "source": [
    "# train_bow_text의 길이 분포 출력\n",
    "plt.hist([len(s) for s in train_text], bins=30)\n",
    "plt.show()"
   ]
  },
  {
   "cell_type": "code",
   "execution_count": 30,
   "metadata": {},
   "outputs": [
    {
     "data": {
      "image/png": "[encoded data removed]",
      "text/plain": [
       "<Figure size 432x288 with 1 Axes>"
      ]
     },
     "metadata": {
      "needs_background": "light"
     },
     "output_type": "display_data"
    }
   ],
   "source": [
    "# train_cut_text의 길이 분포 출력\n",
    "plt.hist([len(s) for s in train_cut_text], bins=30)\n",
    "plt.show()"
   ]
  },
  {
   "cell_type": "code",
   "execution_count": 31,
   "metadata": {},
   "outputs": [
    {
     "data": {
      "image/png": "[encoded data removed]",
      "text/plain": [
       "<Figure size 432x288 with 1 Axes>"
      ]
     },
     "metadata": {
      "needs_background": "light"
     },
     "output_type": "display_data"
    }
   ],
   "source": [
    "# train_cut_bow_text2의 길이 분포를 출력\n",
    "plt.hist([len(s) for s in train_cut_bow_text2], bins=30)\n",
    "plt.show()"
   ]
  },
  {
   "cell_type": "code",
   "execution_count": 32,
   "metadata": {},
   "outputs": [
    {
     "data": {
      "text/plain": [
       "(8982, 200)"
      ]
     },
     "execution_count": 32,
     "metadata": {},
     "output_type": "execute_result"
    }
   ],
   "source": [
    "train_cut_bow_text2.shape"
   ]
  },
  {
   "cell_type": "code",
   "execution_count": 33,
   "metadata": {},
   "outputs": [
    {
     "data": {
      "text/plain": [
       "<BarContainer object of 46 artists>"
      ]
     },
     "execution_count": 33,
     "metadata": {},
     "output_type": "execute_result"
    },
    {
     "data": {
      "image/png": "[encoded data removed]",
      "text/plain": [
       "<Figure size 432x288 with 1 Axes>"
      ]
     },
     "metadata": {
      "needs_background": "light"
     },
     "output_type": "display_data"
    }
   ],
   "source": [
    "# label 분포 출력\n",
    "import collections\n",
    "plt.bar(np.unique(train_topic), list(map(lambda x:x[1], sorted(collections.Counter(train_topic).items()))))"
   ]
  },
  {
   "cell_type": "code",
   "execution_count": 34,
   "metadata": {},
   "outputs": [
    {
     "data": {
      "text/plain": [
       "<BarContainer object of 46 artists>"
      ]
     },
     "execution_count": 34,
     "metadata": {},
     "output_type": "execute_result"
    },
    {
     "data": {
      "image/png": "[encoded data removed]",
      "text/plain": [
       "<Figure size 432x288 with 1 Axes>"
      ]
     },
     "metadata": {
      "needs_background": "light"
     },
     "output_type": "display_data"
    }
   ],
   "source": [
    "plt.bar(*np.unique(train_topic, return_counts=True))"
   ]
  },
  {
   "cell_type": "code",
   "execution_count": 35,
   "metadata": {},
   "outputs": [
    {
     "data": {
      "text/plain": [
       "<AxesSubplot:ylabel='count'>"
      ]
     },
     "execution_count": 35,
     "metadata": {},
     "output_type": "execute_result"
    },
    {
     "data": {
      "image/png": "[encoded data removed]",
      "text/plain": [
       "<Figure size 432x288 with 1 Axes>"
      ]
     },
     "metadata": {
      "needs_background": "light"
     },
     "output_type": "display_data"
    }
   ],
   "source": [
    "# seaborn 이용 label 분포 출력\n",
    "sns.countplot(train_topic)"
   ]
  },
  {
   "cell_type": "code",
   "execution_count": 36,
   "metadata": {},
   "outputs": [
    {
     "data": {
      "image/png": "[encoded data removed]",
      "text/plain": [
       "<Figure size 720x360 with 1 Axes>"
      ]
     },
     "metadata": {
      "needs_background": "light"
     },
     "output_type": "display_data"
    }
   ],
   "source": [
    "sns.countplot(list(map(lambda x: topic2label(x), train_topic)))\n",
    "plt.xticks(rotation=45)\n",
    "fig = plt.gcf()\n",
    "fig.set_size_inches(10,5)\n",
    "plt.show()"
   ]
  },
  {
   "cell_type": "code",
   "execution_count": 37,
   "metadata": {},
   "outputs": [
    {
     "name": "stdout",
     "output_type": "stream",
     "text": [
      "Downloading data from https://storage.googleapis.com/tensorflow/tf-keras-datasets/reuters_word_index.json\n",
      "557056/550378 [==============================] - 0s 0us/step\n",
      "565248/550378 [==============================] - 0s 0us/step\n"
     ]
    },
    {
     "data": {
      "text/plain": [
       "\"the slide both their a in after london adjusted 2 contracts 54 as sales agriculture with from were vs been prices its for benefit from dlrs vs been are 2 both 97 firms deficient i geneen briefly mln briefly week operating for giving 28 in record disappointed spending shr initiative around five farmers in but 18 66 5 efforts scale will t net mln with deal from billion vs been said in after london adjusted 5 will agip it take supplies briefly mln 9 confidence on been 5 will agriculture method it in has would both administration without on been it intended figures 3 total on been 5 will 75 that in into shares net mln january in three subject for system guaranty deficient users and 381 surviving in attempt 5 higher prices producers without on been 57 request in executive in three it at china concentrate as sales priorities paris said in attempt last told showed 1 and 48 deficit be what briefly mln surviving over qtr prices today is said acres agree in one news possible be 9 1988 vs regional briefly mln against while slide sne oil smith and extraordinary investor surviving january in attempt u subject in surviving attempt 5 plc a medium it 9 before on produced increasing medical acquired issuer period said 150 be 240 into both per 3 for galloping take when their north agriculture it in 15 pay a after london share sales disease and export 796 romero his economists in export 5 announcement philippine sandi in market soybean flavor more in march 545 net mln last 25 cts modest 50 balance it 22 north told or institute west discount offered 57 agreement fiscal china supplies subsidiary in 80 bank boosted equilibrium 22 term per briefly mln bankers both u french free viewed it suspension regional april collaspe prices its harcourt regional have 54 briefly mln per oil seasons prices between said telecommunications here in brittany cost and within their told or 50 air valued including canada was in into shares net mln bankers 80 a in diminishes remarks share rawl its interest bessemer 3 hotels common bpd 3 beefing contains 3 compagnia their net mln steam common through group other surviving u two following 88 in both when in brochure system unit milliyet interest rings briefly mln stock bank 1988 both break operations was fiscal division last stock index's 90 said goods 3 hotels their told dutch and rejected are for facility's pattamapong preliminary said in both when net mln 791 over will decision and consisting 3 zero making it briarcliff seattle's 7 making a exchanges dillution four nearly yen 791 nearly usair saudi bank and 1984 both net mln briefly mln in double u shake it for elect said in there both note shr 183 a 84 loss for while both taken told or sound goods and sosnoff for market note shr 5 judgement into per briefly mln january 25 cts 50 note into per he charles will 240 settlement between in who sector cts debtholders at 80 3 inventories both that in money net mln record into per 52 newly with 9 had ministry community april try oil oxford it in double de their days curbs its all and countries community for try january in first produce newly it for 14 with had ministry community his showed in subsidiary and earlier and 9 meeting community for try be in 31 said are 2 net mln briefly mln takeover levels for friendly both shares be region was into supplies donor their net mln both money oil 52 prices chief poul its filled goria 3 term uganda bpd idled last told or 1986 kwacha was in fourth firms net mln currency purhcase told bank sales spokeswoman journalists said both and in has would a johnson four stock upland in administration ago stock yen harsh a can ministers cash lined christian u greenshields 937 initiatives entered and yen take might per and all community for try its sources community in has would seven time have only digiorgio at all five after both news administration its in double and starts deliver german slightly its cie advisor german slightly a but briefly mln chief around 09 results their executive no slide break oil under and mineral markets with deal 17 said in division break oil 1986 consider 28 in but 18 spending net mln told showed corp 7 against quarter and 01 ceiling 28 in around spending pct dlrs\""
      ]
     },
     "execution_count": 37,
     "metadata": {},
     "output_type": "execute_result"
    }
   ],
   "source": [
    "# reuters.get_word_index()를 이용, text를 decode\n",
    "index_word = {y:x for x, y in reuters.get_word_index().items()}\n",
    "\n",
    "def bow2text(bow):\n",
    "    return \" \".join([index_word[idx] for idx in bow])\n",
    "\n",
    "bow2text(test_text[1])"
   ]
  },
  {
   "cell_type": "code",
   "execution_count": 38,
   "metadata": {},
   "outputs": [
    {
     "data": {
      "text/plain": [
       "[<matplotlib.lines.Line2D at 0x291982de940>]"
      ]
     },
     "execution_count": 38,
     "metadata": {},
     "output_type": "execute_result"
    },
    {
     "data": {
      "image/png": "[encoded data removed]",
      "text/plain": [
       "<Figure size 432x288 with 1 Axes>"
      ]
     },
     "metadata": {
      "needs_background": "light"
     },
     "output_type": "display_data"
    }
   ],
   "source": [
    "# train/test 데이터에서 문서당 가장 많은 획수로 출현한 word 분포 출력\n",
    "plt.plot(sorted([np.unique(doc, return_counts=True)[1].argmax() for doc in train_text], reverse=True))"
   ]
  },
  {
   "cell_type": "code",
   "execution_count": 39,
   "metadata": {},
   "outputs": [
    {
     "data": {
      "text/plain": [
       "[<matplotlib.lines.Line2D at 0x291983055e0>]"
      ]
     },
     "execution_count": 39,
     "metadata": {},
     "output_type": "execute_result"
    },
    {
     "data": {
      "image/png": "[encoded data removed]",
      "text/plain": [
       "<Figure size 432x288 with 1 Axes>"
      ]
     },
     "metadata": {
      "needs_background": "light"
     },
     "output_type": "display_data"
    }
   ],
   "source": [
    "# train/test 전체 문서 당 가장 많이 출현한 word 분포 출력\n",
    "table = np.zeros(len(all_words)+2)\n",
    "for doc in train_text:\n",
    "    table[np.unique(doc)] += 1\n",
    "plt.plot(sorted(table, reverse=True)[:300])"
   ]
  },
  {
   "cell_type": "markdown",
   "metadata": {},
   "source": [
    "## 4. Seq2Seq의 Encoder 이용 모델링"
   ]
  },
  {
   "cell_type": "code",
   "execution_count": 41,
   "metadata": {},
   "outputs": [],
   "source": [
    "# Encoder 이용 분류 모델 구축\n",
    "# seq2seq 모델 구축 및 학습모델, encoder 획득\n",
    "from keras.layers import Input, Embedding, GRU, Dense\n",
    "from keras.models import Model\n",
    "\n",
    "def Seq2Seq():\n",
    "    inputs_x_bow = Input(shape=(200,))\n",
    "    embedding = Embedding(len(index_word)+1, 120)\n",
    "    x = embedding(inputs_x_bow)  # x = embedding(len(index_word)+1, 120)(inputs_x_bow)\n",
    "    z = GRU(64)(x)\n",
    "    y = Dense(46, activation=\"softmax\")(z)\n",
    "\n",
    "    model = Model(inputs_x_bow, y)\n",
    "    model.compile(loss='categorical_crossentropy', optimizer='adam', metrics=['accuracy'])\n",
    "    return model"
   ]
  },
  {
   "cell_type": "code",
   "execution_count": 42,
   "metadata": {},
   "outputs": [],
   "source": [
    "# 학습모델 생성 후 summary 출력\n",
    "model = Seq2Seq()"
   ]
  },
  {
   "cell_type": "code",
   "execution_count": 43,
   "metadata": {},
   "outputs": [
    {
     "name": "stdout",
     "output_type": "stream",
     "text": [
      "Model: \"model\"\n",
      "_________________________________________________________________\n",
      " Layer (type)                Output Shape              Param #   \n",
      "=================================================================\n",
      " input_1 (InputLayer)        [(None, 200)]             0         \n",
      "                                                                 \n",
      " embedding (Embedding)       (None, 200, 120)          3717600   \n",
      "                                                                 \n",
      " gru (GRU)                   (None, 64)                35712     \n",
      "                                                                 \n",
      " dense (Dense)               (None, 46)                2990      \n",
      "                                                                 \n",
      "=================================================================\n",
      "Total params: 3,756,302\n",
      "Trainable params: 3,756,302\n",
      "Non-trainable params: 0\n",
      "_________________________________________________________________\n"
     ]
    }
   ],
   "source": [
    "model.summary()"
   ]
  },
  {
   "cell_type": "code",
   "execution_count": 44,
   "metadata": {},
   "outputs": [
    {
     "name": "stdout",
     "output_type": "stream",
     "text": [
      "Epoch 1/20\n",
      "281/281 [==============================] - 47s 159ms/step - loss: 2.1884 - accuracy: 0.4105 - val_loss: 1.8111 - val_accuracy: 0.5232\n",
      "Epoch 2/20\n",
      "281/281 [==============================] - 48s 172ms/step - loss: 1.6562 - accuracy: 0.5656 - val_loss: 1.7671 - val_accuracy: 0.5623\n",
      "Epoch 3/20\n",
      "281/281 [==============================] - 51s 182ms/step - loss: 1.4816 - accuracy: 0.6148 - val_loss: 1.6274 - val_accuracy: 0.6015\n",
      "Epoch 4/20\n",
      "281/281 [==============================] - 41s 144ms/step - loss: 1.2632 - accuracy: 0.6648 - val_loss: 1.5406 - val_accuracy: 0.6140\n",
      "Epoch 5/20\n",
      "281/281 [==============================] - 33s 117ms/step - loss: 1.0887 - accuracy: 0.7088 - val_loss: 1.5700 - val_accuracy: 0.6091\n",
      "Epoch 6/20\n",
      "281/281 [==============================] - 33s 118ms/step - loss: 0.9674 - accuracy: 0.7395 - val_loss: 1.5812 - val_accuracy: 0.6167\n",
      "Epoch 7/20\n",
      "281/281 [==============================] - 33s 116ms/step - loss: 0.8494 - accuracy: 0.7742 - val_loss: 1.5877 - val_accuracy: 0.6264\n",
      "Epoch 8/20\n",
      "281/281 [==============================] - 33s 117ms/step - loss: 0.7415 - accuracy: 0.8125 - val_loss: 1.5775 - val_accuracy: 0.6487\n",
      "Epoch 9/20\n",
      "281/281 [==============================] - 33s 119ms/step - loss: 0.6455 - accuracy: 0.8411 - val_loss: 1.5888 - val_accuracy: 0.6621\n",
      "Epoch 10/20\n",
      "281/281 [==============================] - 33s 119ms/step - loss: 0.5691 - accuracy: 0.8592 - val_loss: 1.6020 - val_accuracy: 0.6638\n",
      "Epoch 11/20\n",
      "281/281 [==============================] - 34s 120ms/step - loss: 0.4952 - accuracy: 0.8746 - val_loss: 1.5823 - val_accuracy: 0.6714\n",
      "Epoch 12/20\n",
      "281/281 [==============================] - 31s 110ms/step - loss: 0.4357 - accuracy: 0.8952 - val_loss: 1.6616 - val_accuracy: 0.6545\n",
      "Epoch 13/20\n",
      "281/281 [==============================] - 25s 88ms/step - loss: 0.3869 - accuracy: 0.9076 - val_loss: 1.8109 - val_accuracy: 0.6305\n",
      "Epoch 14/20\n",
      "281/281 [==============================] - 25s 90ms/step - loss: 0.3499 - accuracy: 0.9162 - val_loss: 1.6409 - val_accuracy: 0.6679\n",
      "Epoch 15/20\n",
      "281/281 [==============================] - 26s 92ms/step - loss: 0.2972 - accuracy: 0.9311 - val_loss: 1.7020 - val_accuracy: 0.6679\n",
      "Epoch 16/20\n",
      "281/281 [==============================] - 24s 87ms/step - loss: 0.2677 - accuracy: 0.9374 - val_loss: 1.6969 - val_accuracy: 0.6692\n",
      "Epoch 17/20\n",
      "281/281 [==============================] - 27s 96ms/step - loss: 0.2415 - accuracy: 0.9419 - val_loss: 1.7180 - val_accuracy: 0.6710\n",
      "Epoch 18/20\n",
      "281/281 [==============================] - 28s 98ms/step - loss: 0.2169 - accuracy: 0.9470 - val_loss: 1.7253 - val_accuracy: 0.6754\n",
      "Epoch 19/20\n",
      "281/281 [==============================] - 29s 103ms/step - loss: 0.2008 - accuracy: 0.9471 - val_loss: 1.7799 - val_accuracy: 0.6594\n",
      "Epoch 20/20\n",
      "281/281 [==============================] - 24s 86ms/step - loss: 0.1768 - accuracy: 0.9518 - val_loss: 1.7460 - val_accuracy: 0.6745\n"
     ]
    }
   ],
   "source": [
    "# 모델 학습\n",
    "hist = model.fit(\n",
    "    train_cut_bow_text2,\n",
    "    train_onehot_topic,\n",
    "    validation_data = (test_cut_bow_text2, test_onehot_topic),\n",
    "    verbose = 1,\n",
    "    epochs = 20\n",
    ")"
   ]
  },
  {
   "cell_type": "code",
   "execution_count": 45,
   "metadata": {},
   "outputs": [
    {
     "data": {
      "image/png": "[encoded data removed]",
      "text/plain": [
       "<Figure size 432x288 with 1 Axes>"
      ]
     },
     "metadata": {
      "needs_background": "light"
     },
     "output_type": "display_data"
    }
   ],
   "source": [
    "# 학습 진행 상황을 plt로 출력\n",
    "# hist의 accuracy와 loss를 plt의 plot을 이용하여 출력하는 코드 작성\n",
    "plt.plot(hist.history['accuracy'], label='accuracy')\n",
    "plt.plot(hist.history['val_accuracy'], label='val_accuracy')\n",
    "plt.plot(hist.history['loss'], label='loss')\n",
    "plt.plot(hist.history['val_loss'], label='val_loss')\n",
    "plt.legend(loc=\"upper left\")\n",
    "plt.show()"
   ]
  },
  {
   "cell_type": "code",
   "execution_count": 46,
   "metadata": {},
   "outputs": [
    {
     "name": "stdout",
     "output_type": "stream",
     "text": [
      "Model: \"model_1\"\n",
      "_________________________________________________________________\n",
      " Layer (type)                Output Shape              Param #   \n",
      "=================================================================\n",
      " input_2 (InputLayer)        [(None, 200)]             0         \n",
      "                                                                 \n",
      " embedding_1 (Embedding)     (None, 200, 120)          3717600   \n",
      "                                                                 \n",
      " gru_1 (GRU)                 (None, 64)                35712     \n",
      "                                                                 \n",
      " dense_1 (Dense)             (None, 46)                2990      \n",
      "                                                                 \n",
      "=================================================================\n",
      "Total params: 3,756,302\n",
      "Trainable params: 3,756,302\n",
      "Non-trainable params: 0\n",
      "_________________________________________________________________\n"
     ]
    }
   ],
   "source": [
    "# train_cut_bow_text를 위한 학습 모델 생성, summary 출력\n",
    "model2 = Seq2Seq()\n",
    "model2.summary()"
   ]
  },
  {
   "cell_type": "code",
   "execution_count": 47,
   "metadata": {},
   "outputs": [
    {
     "data": {
      "text/plain": [
       "((8982, 2266), (2246, 995))"
      ]
     },
     "execution_count": 47,
     "metadata": {},
     "output_type": "execute_result"
    }
   ],
   "source": [
    "# 학습모델 학습. train_cut_bow_text의 길이를 200으로 수정 후 실행\n",
    "train_cut_bow_text.shape, test_cut_bow_text.shape"
   ]
  },
  {
   "cell_type": "code",
   "execution_count": 48,
   "metadata": {},
   "outputs": [
    {
     "name": "stdout",
     "output_type": "stream",
     "text": [
      "Epoch 1/20\n",
      "281/281 [==============================] - 53s 180ms/step - loss: 2.1798 - accuracy: 0.4294 - val_loss: 1.7545 - val_accuracy: 0.5445\n",
      "Epoch 2/20\n",
      "281/281 [==============================] - 50s 178ms/step - loss: 1.6420 - accuracy: 0.5749 - val_loss: 1.9937 - val_accuracy: 0.4679\n",
      "Epoch 3/20\n",
      "281/281 [==============================] - 48s 170ms/step - loss: 1.5115 - accuracy: 0.6118 - val_loss: 1.5835 - val_accuracy: 0.6011\n",
      "Epoch 4/20\n",
      "281/281 [==============================] - 48s 171ms/step - loss: 1.3257 - accuracy: 0.6499 - val_loss: 1.5200 - val_accuracy: 0.6082\n",
      "Epoch 5/20\n",
      "281/281 [==============================] - 48s 171ms/step - loss: 1.1660 - accuracy: 0.6934 - val_loss: 1.4267 - val_accuracy: 0.6420\n",
      "Epoch 6/20\n",
      "281/281 [==============================] - 48s 171ms/step - loss: 1.0109 - accuracy: 0.7483 - val_loss: 1.3866 - val_accuracy: 0.6612\n",
      "Epoch 7/20\n",
      "281/281 [==============================] - 48s 173ms/step - loss: 0.8882 - accuracy: 0.7788 - val_loss: 1.4008 - val_accuracy: 0.6696\n",
      "Epoch 8/20\n",
      "281/281 [==============================] - 44s 156ms/step - loss: 0.7862 - accuracy: 0.8034 - val_loss: 1.4179 - val_accuracy: 0.6803\n",
      "Epoch 9/20\n",
      "281/281 [==============================] - 44s 155ms/step - loss: 0.6970 - accuracy: 0.8311 - val_loss: 1.4198 - val_accuracy: 0.6915\n",
      "Epoch 10/20\n",
      "281/281 [==============================] - 44s 155ms/step - loss: 0.6140 - accuracy: 0.8504 - val_loss: 1.4314 - val_accuracy: 0.6901\n",
      "Epoch 11/20\n",
      "281/281 [==============================] - 44s 155ms/step - loss: 0.5486 - accuracy: 0.8617 - val_loss: 1.4648 - val_accuracy: 0.6879\n",
      "Epoch 12/20\n",
      "281/281 [==============================] - 46s 165ms/step - loss: 0.4919 - accuracy: 0.8762 - val_loss: 1.5069 - val_accuracy: 0.6843\n",
      "Epoch 13/20\n",
      "281/281 [==============================] - 49s 173ms/step - loss: 0.4387 - accuracy: 0.8897 - val_loss: 1.5826 - val_accuracy: 0.6785\n",
      "Epoch 14/20\n",
      "281/281 [==============================] - 51s 181ms/step - loss: 0.3967 - accuracy: 0.9010 - val_loss: 1.5672 - val_accuracy: 0.6857\n",
      "Epoch 15/20\n",
      "281/281 [==============================] - 48s 169ms/step - loss: 0.3559 - accuracy: 0.9127 - val_loss: 1.5468 - val_accuracy: 0.6888\n",
      "Epoch 16/20\n",
      "281/281 [==============================] - 45s 158ms/step - loss: 0.3168 - accuracy: 0.9241 - val_loss: 1.5745 - val_accuracy: 0.6915\n",
      "Epoch 17/20\n",
      "281/281 [==============================] - 45s 160ms/step - loss: 0.2843 - accuracy: 0.9295 - val_loss: 1.6119 - val_accuracy: 0.6941\n",
      "Epoch 18/20\n",
      "281/281 [==============================] - 43s 154ms/step - loss: 0.2518 - accuracy: 0.9375 - val_loss: 1.6171 - val_accuracy: 0.6919\n",
      "Epoch 19/20\n",
      "281/281 [==============================] - 60s 213ms/step - loss: 0.2507 - accuracy: 0.9364 - val_loss: 1.7096 - val_accuracy: 0.6763\n",
      "Epoch 20/20\n",
      "281/281 [==============================] - 55s 196ms/step - loss: 0.2404 - accuracy: 0.9370 - val_loss: 1.7052 - val_accuracy: 0.6919\n"
     ]
    }
   ],
   "source": [
    "hist2 = model2.fit(\n",
    "    train_cut_bow_text[..., -200:],\n",
    "    train_onehot_topic,\n",
    "    validation_data=(test_cut_bow_text[..., -200:], test_onehot_topic),\n",
    "    verbose=1,\n",
    "    epochs=20\n",
    ")"
   ]
  },
  {
   "cell_type": "code",
   "execution_count": 49,
   "metadata": {},
   "outputs": [
    {
     "data": {
      "image/png": "[encoded data removed]",
      "text/plain": [
       "<Figure size 432x288 with 1 Axes>"
      ]
     },
     "metadata": {
      "needs_background": "light"
     },
     "output_type": "display_data"
    }
   ],
   "source": [
    "# 학습 진행 상황을 plt로 출력\n",
    "plt.plot(hist2.history['accuracy'], label='accuracy')\n",
    "plt.plot(hist2.history['val_accuracy'], label='val_accuracy')\n",
    "plt.plot(hist2.history['loss'], label='loss')\n",
    "plt.plot(hist2.history['val_loss'], label='val_loss')\n",
    "plt.legend(loc=\"upper left\")\n",
    "plt.show()"
   ]
  },
  {
   "cell_type": "markdown",
   "metadata": {},
   "source": [
    "## 5. 모델 결과 확인\n",
    "### 완성된 모델1,2에서 test 하나를 예측하고 결과를 res1, res2 변수에 저장"
   ]
  },
  {
   "cell_type": "code",
   "execution_count": 50,
   "metadata": {},
   "outputs": [
    {
     "data": {
      "text/plain": [
       "(array([[1.3527452e-02, 2.6180947e-01, 1.3665819e-04, 1.2427578e-02,\n",
       "         6.4181104e-02, 7.6618243e-04, 1.2575616e-07, 1.2242708e-04,\n",
       "         2.6859659e-06, 4.5897286e-05, 5.7915902e-01, 1.5317921e-05,\n",
       "         3.9155691e-07, 3.4962017e-02, 2.3655987e-03, 1.4802437e-04,\n",
       "         6.6998444e-05, 2.0921347e-03, 3.1153856e-08, 5.0158564e-05,\n",
       "         1.1626141e-05, 3.5004553e-06, 5.5071072e-05, 1.6210448e-02,\n",
       "         2.4194396e-04, 1.4792494e-05, 7.4780524e-05, 2.2666513e-06,\n",
       "         6.1390013e-03, 3.5863159e-05, 3.3556203e-06, 1.8316863e-05,\n",
       "         1.9646759e-04, 1.0179243e-04, 2.8742531e-07, 1.7798482e-04,\n",
       "         4.8823516e-08, 1.9518590e-04, 3.0705940e-03, 1.2770311e-03,\n",
       "         2.3893153e-07, 2.8397379e-04, 3.7264140e-06, 1.3346479e-07,\n",
       "         1.5912599e-07, 2.2191311e-06]], dtype=float32),\n",
       " (1, 46))"
      ]
     },
     "execution_count": 50,
     "metadata": {},
     "output_type": "execute_result"
    }
   ],
   "source": [
    "res1 = model.predict(test_cut_bow_text2[1:2])\n",
    "res1, res1.shape"
   ]
  },
  {
   "cell_type": "code",
   "execution_count": 51,
   "metadata": {},
   "outputs": [
    {
     "data": {
      "text/plain": [
       "(array([[7.4164225e-03, 2.3323691e-03, 1.9942068e-05, 1.6182944e-03,\n",
       "         1.1527477e-03, 1.6075101e-03, 2.4939261e-03, 2.2839820e-06,\n",
       "         2.4690868e-07, 4.0203719e-03, 9.6060574e-01, 1.7506227e-05,\n",
       "         2.8232569e-07, 3.8376564e-04, 5.8861324e-03, 6.7856209e-04,\n",
       "         4.2216634e-05, 2.5829891e-04, 2.0767570e-06, 5.0975191e-06,\n",
       "         4.2995981e-07, 7.0498714e-07, 4.1825828e-05, 1.3986124e-03,\n",
       "         3.1660376e-05, 3.6615593e-04, 7.6182740e-05, 1.9435056e-05,\n",
       "         1.4742727e-04, 1.6155216e-05, 4.5664374e-06, 3.4835702e-04,\n",
       "         3.2243871e-03, 4.2759656e-04, 9.3604058e-06, 2.3945354e-06,\n",
       "         2.2483125e-06, 2.8571037e-03, 3.0243132e-04, 3.1131236e-05,\n",
       "         7.3390441e-07, 8.5551816e-04, 1.1367635e-03, 5.0781637e-06,\n",
       "         1.8568411e-06, 1.4803253e-04]], dtype=float32),\n",
       " (1, 46))"
      ]
     },
     "execution_count": 51,
     "metadata": {},
     "output_type": "execute_result"
    }
   ],
   "source": [
    "res2 = model2.predict(test_cut_bow_text[1:2, -200:])\n",
    "res2, res2.shape"
   ]
  },
  {
   "cell_type": "code",
   "execution_count": 52,
   "metadata": {},
   "outputs": [
    {
     "data": {
      "text/plain": [
       "'sugar'"
      ]
     },
     "execution_count": 52,
     "metadata": {},
     "output_type": "execute_result"
    },
    {
     "data": {
      "image/png": "[encoded data removed]",
      "text/plain": [
       "<Figure size 432x288 with 1 Axes>"
      ]
     },
     "metadata": {
      "needs_background": "light"
     },
     "output_type": "display_data"
    }
   ],
   "source": [
    "# res1, res2 결과 확인\n",
    "plt.bar(np.array(range(len(res1[0]))), res1[0], color=\"red\")\n",
    "plt.bar(np.array(range(len(res1[0]))) + 0.5, test_onehot_topic[1], color=\"blue\")\n",
    "\n",
    "topic2label(test_onehot_topic[1].argmax())"
   ]
  },
  {
   "cell_type": "code",
   "execution_count": 53,
   "metadata": {},
   "outputs": [
    {
     "data": {
      "text/plain": [
       "'sugar'"
      ]
     },
     "execution_count": 53,
     "metadata": {},
     "output_type": "execute_result"
    },
    {
     "data": {
      "image/png": "[encoded data removed]",
      "text/plain": [
       "<Figure size 432x288 with 1 Axes>"
      ]
     },
     "metadata": {
      "needs_background": "light"
     },
     "output_type": "display_data"
    }
   ],
   "source": [
    "plt.bar(np.array(range(len(res2[0]))), res2[0], color=\"red\")\n",
    "plt.bar(np.array(range(len(res2[0]))) + 0.5, test_onehot_topic[1], color=\"blue\")\n",
    "\n",
    "topic2label(test_onehot_topic[1].argmax())"
   ]
  },
  {
   "cell_type": "code",
   "execution_count": 54,
   "metadata": {},
   "outputs": [
    {
     "data": {
      "text/plain": [
       "'sugar'"
      ]
     },
     "execution_count": 54,
     "metadata": {},
     "output_type": "execute_result"
    },
    {
     "data": {
      "image/png": "[encoded data removed]",
      "text/plain": [
       "<Figure size 432x288 with 1 Axes>"
      ]
     },
     "metadata": {
      "needs_background": "light"
     },
     "output_type": "display_data"
    }
   ],
   "source": [
    "wrong1 = model.predict(test_cut_bow_text[1:2, -200:])\n",
    "\n",
    "plt.bar( np.array(range(len(wrong1[0]))),  wrong1[0],     color=\"red\" )\n",
    "plt.bar( np.array(range(len(wrong1[0]))) + 0.5,  test_onehot_topic[1],     color=\"blue\" )\n",
    "\n",
    "topic2label( test_onehot_topic[1].argmax() ) "
   ]
  },
  {
   "cell_type": "code",
   "execution_count": 55,
   "metadata": {},
   "outputs": [
    {
     "data": {
      "text/plain": [
       "'sugar'"
      ]
     },
     "execution_count": 55,
     "metadata": {},
     "output_type": "execute_result"
    },
    {
     "data": {
      "image/png": "[encoded data removed]",
      "text/plain": [
       "<Figure size 432x288 with 1 Axes>"
      ]
     },
     "metadata": {
      "needs_background": "light"
     },
     "output_type": "display_data"
    }
   ],
   "source": [
    "wrong2 = model2.predict(test_cut_bow_text2[1:2])\n",
    "\n",
    "plt.bar( np.array(range(len(wrong2[0]))),  wrong2[0],     color=\"red\" )\n",
    "plt.bar( np.array(range(len(wrong2[0]))) + 0.5,  test_onehot_topic[1],     color=\"blue\" )\n",
    "\n",
    "topic2label( test_onehot_topic[1].argmax() ) "
   ]
  },
  {
   "cell_type": "markdown",
   "metadata": {},
   "source": [
    "### reuters.get_word_index()를 이용 평문을 bow로 변환"
   ]
  },
  {
   "cell_type": "code",
   "execution_count": 56,
   "metadata": {},
   "outputs": [
    {
     "data": {
      "text/plain": [
       "'the in wants intermediate 3 how types could mln at against 2 guidelines vs end products opec he will will along results and willingly exports 3 purchased each it stubbornly profit 3 avondale profit agreement in around corp should for 3 cannot mln in ended said avondale a 54 but 3 stubbornly a only generally political primarily date other under well a in british rate gain if demand at an div its taking report montreal systems were is and production had vs 000 7 issued year for 0 a in buffer rate loss may results tariffs dlrs is and from 39 s 000 for 3 cannot pre 50 east that in foods products opec last 1 fall change 1 approval in 15 2 said in opec 28 but for 3 cannot cts systems which is half be 6 iffezheim uobm said president amount pct dlrs'"
      ]
     },
     "execution_count": 56,
     "metadata": {},
     "output_type": "execute_result"
    }
   ],
   "source": [
    "text = bow2text(test_text[0])\n",
    "text"
   ]
  },
  {
   "cell_type": "markdown",
   "metadata": {},
   "source": [
    "### text2bow를 이용하여 model1을 통해 결과 확인"
   ]
  },
  {
   "cell_type": "code",
   "execution_count": 57,
   "metadata": {},
   "outputs": [],
   "source": [
    "def text2bow(text, maxlen = 400):\n",
    "    word_index = reuters.get_word_index()\n",
    "    seq = np.array([word_index[word] for word in text.lower().replace(\"\\n\", \" \").split() if word in word])\n",
    "    bow = tf.keras.preprocessing.sequence.pad_sequences([seq], value = 0, maxlen = maxlen)\n",
    "    return bow"
   ]
  },
  {
   "cell_type": "code",
   "execution_count": 58,
   "metadata": {},
   "outputs": [
    {
     "data": {
      "text/plain": [
       "(1, 400)"
      ]
     },
     "execution_count": 58,
     "metadata": {},
     "output_type": "execute_result"
    }
   ],
   "source": [
    "bow1 = text2bow(text)\n",
    "bow1.shape"
   ]
  },
  {
   "cell_type": "code",
   "execution_count": 59,
   "metadata": {},
   "outputs": [
    {
     "data": {
      "text/plain": [
       "array([[    0,     0,     0,     0,     0,     0,     0,     0,     0,\n",
       "            0,     0,     0,     0,     0,     0,     0,     0,     0,\n",
       "            0,     0,     0,     0,     0,     0,     0,     0,     0,\n",
       "            0,     0,     0,     0,     0,     0,     0,     0,     0,\n",
       "            0,     0,     0,     0,     0,     0,     0,     0,     0,\n",
       "            0,     0,     0,     0,     0,     0,     0,     0,     0,\n",
       "            0,     0,     0,     0,     0,     0,     0,     0,     0,\n",
       "            0,     0,     0,     0,     0,     0,     0,     0,     0,\n",
       "            0,     0,     0,     0,     0,     0,     0,     0,     0,\n",
       "            0,     0,     0,     0,     0,     0,     0,     0,     0,\n",
       "            0,     0,     0,     0,     0,     0,     0,     0,     0,\n",
       "            0,     0,     0,     0,     0,     0,     0,     0,     0,\n",
       "            0,     0,     0,     0,     0,     0,     0,     0,     0,\n",
       "            0,     0,     0,     0,     0,     0,     0,     0,     0,\n",
       "            0,     0,     0,     0,     0,     0,     0,     0,     0,\n",
       "            0,     0,     0,     0,     0,     0,     0,     0,     0,\n",
       "            0,     0,     0,     0,     0,     0,     0,     0,     0,\n",
       "            0,     0,     0,     0,     0,     0,     0,     0,     0,\n",
       "            0,     0,     0,     0,     0,     0,     0,     0,     0,\n",
       "            0,     0,     0,     0,     0,     0,     0,     0,     0,\n",
       "            0,     0,     0,     0,     0,     0,     0,     0,     0,\n",
       "            0,     0,     0,     0,     0,     0,     0,     0,     0,\n",
       "            0,     0,     0,     0,     0,     0,     0,     0,     0,\n",
       "            0,     0,     0,     0,     0,     0,     0,     0,     0,\n",
       "            0,     0,     0,     0,     0,     0,     0,     0,     0,\n",
       "            0,     0,     0,     0,     0,     0,     0,     0,     0,\n",
       "            0,     0,     0,     0,     0,     0,     0,     0,     0,\n",
       "            0,     0,     0,     0,     0,     0,     0,     0,     0,\n",
       "            0,     0,     0,     1,     4,  1378,  2025,     9,   697,\n",
       "         4622,   111,     8,    25,   109,    29,  3650,    11,   150,\n",
       "          244,   364,    33,    30,    30,  1398,   333,     6, 18292,\n",
       "          159,     9,  1084,   363,    13, 19231,    71,     9, 16273,\n",
       "           71,   117,     4,   225,    78,   206,    10,     9,  1214,\n",
       "            8,     4,   270,     5, 16273,     7,   748,    48,     9,\n",
       "        19231,     7,   207,  1451,   966,  1864,   793,    97,   133,\n",
       "          336,     7,     4,   493,    98,   273,   104,   284,    25,\n",
       "           39,   338,    22,   905,   220,  3465,   644,    59,    20,\n",
       "            6,   119,    61,    11,    15,    58,   579,    26,    10,\n",
       "           67,     7,     4,   738,    98,    43,    88,   333,   722,\n",
       "           12,    20,     6,    19,   746,    35,    15,    10,     9,\n",
       "         1214,   855,   129,   783,    21,     4,  2280,   244,   364,\n",
       "           51,    16,   299,   452,    16,   515,     4,    99,    29,\n",
       "            5,     4,   364,   281,    48,    10,     9,  1214,    23,\n",
       "          644,    47,    20,   324,    27,    56, 23406, 28185,     5,\n",
       "          192,   510,    17,    12]])"
      ]
     },
     "execution_count": 59,
     "metadata": {},
     "output_type": "execute_result"
    }
   ],
   "source": [
    "bow1"
   ]
  },
  {
   "cell_type": "code",
   "execution_count": 60,
   "metadata": {},
   "outputs": [
    {
     "data": {
      "text/plain": [
       "<BarContainer object of 46 artists>"
      ]
     },
     "execution_count": 60,
     "metadata": {},
     "output_type": "execute_result"
    },
    {
     "data": {
      "image/png": "[encoded data removed]",
      "text/plain": [
       "<Figure size 432x288 with 1 Axes>"
      ]
     },
     "metadata": {
      "needs_background": "light"
     },
     "output_type": "display_data"
    }
   ],
   "source": [
    "res3 = model.predict(bow1[..., -200:])\n",
    "plt.bar(np.array(range(len(res3[0]))), res3[0], color=\"red\")\n",
    "plt.bar(np.array(range(len(res3[0])))+0.5, test_onehot_topic[0], color=\"blue\")"
   ]
  },
  {
   "cell_type": "markdown",
   "metadata": {},
   "source": [
    "### cut_by_count를 이용, 20회 이상 등장한 word만 사용하는 bow 생성"
   ]
  },
  {
   "cell_type": "code",
   "execution_count": 61,
   "metadata": {},
   "outputs": [
    {
     "data": {
      "text/plain": [
       "array([[   1,    4, 1378, 2025,    9,  697, 4622,  111,    8,   25,  109,\n",
       "          29, 3650,   11,  150,  244,  364,   33,   30,   30, 1398,  333,\n",
       "           6,  159,    9, 1084,  363,   13,   71,    9,   71,  117,    4,\n",
       "         225,   78,  206,   10,    9, 1214,    8,    4,  270,    5,    7,\n",
       "         748,   48,    9,    7,  207, 1451,  966, 1864,  793,   97,  133,\n",
       "         336,    7,    4,  493,   98,  273,  104,  284,   25,   39,  338,\n",
       "          22,  905,  220, 3465,  644,   59,   20,    6,  119,   61,   11,\n",
       "          15,   58,  579,   26,   10,   67,    7,    4,  738,   98,   43,\n",
       "          88,  333,  722,   12,   20,    6,   19,  746,   35,   15,   10,\n",
       "           9, 1214,  855,  129,  783,   21,    4, 2280,  244,  364,   51,\n",
       "          16,  299,  452,   16,  515,    4,   99,   29,    5,    4,  364,\n",
       "         281,   48,   10,    9, 1214,   23,  644,   47,   20,  324,   27,\n",
       "          56,    5,  192,  510,   17,   12]])"
      ]
     },
     "execution_count": 61,
     "metadata": {},
     "output_type": "execute_result"
    }
   ],
   "source": [
    "cut_by_count(bow1, 20)"
   ]
  },
  {
   "cell_type": "code",
   "execution_count": 62,
   "metadata": {},
   "outputs": [
    {
     "data": {
      "text/plain": [
       "array([[   0,    0,    0,    0,    0,    0,    0,    0,    0,    0,    0,\n",
       "           0,    0,    0,    0,    0,    0,    0,    0,    0,    0,    0,\n",
       "           0,    0,    0,    0,    0,    0,    0,    0,    0,    0,    0,\n",
       "           0,    0,    0,    0,    0,    0,    0,    0,    0,    0,    0,\n",
       "           0,    0,    0,    0,    0,    0,    0,    0,    0,    0,    0,\n",
       "           0,    0,    0,    0,    0,    0,    0,    1,    4, 1378, 2025,\n",
       "           9,  697, 4622,  111,    8,   25,  109,   29, 3650,   11,  150,\n",
       "         244,  364,   33,   30,   30, 1398,  333,    6,  159,    9, 1084,\n",
       "         363,   13,   71,    9,   71,  117,    4,  225,   78,  206,   10,\n",
       "           9, 1214,    8,    4,  270,    5,    7,  748,   48,    9,    7,\n",
       "         207, 1451,  966, 1864,  793,   97,  133,  336,    7,    4,  493,\n",
       "          98,  273,  104,  284,   25,   39,  338,   22,  905,  220, 3465,\n",
       "         644,   59,   20,    6,  119,   61,   11,   15,   58,  579,   26,\n",
       "          10,   67,    7,    4,  738,   98,   43,   88,  333,  722,   12,\n",
       "          20,    6,   19,  746,   35,   15,   10,    9, 1214,  855,  129,\n",
       "         783,   21,    4, 2280,  244,  364,   51,   16,  299,  452,   16,\n",
       "         515,    4,   99,   29,    5,    4,  364,  281,   48,   10,    9,\n",
       "        1214,   23,  644,   47,   20,  324,   27,   56,    5,  192,  510,\n",
       "          17,   12]])"
      ]
     },
     "execution_count": 62,
     "metadata": {},
     "output_type": "execute_result"
    }
   ],
   "source": [
    "bow1_cut = tf.keras.preprocessing.sequence.pad_sequences(cut_by_count(bow1, 20), maxlen=200)\n",
    "bow1_cut"
   ]
  },
  {
   "cell_type": "markdown",
   "metadata": {},
   "source": [
    "### text2bow를 이용, model1 결과 확인"
   ]
  },
  {
   "cell_type": "code",
   "execution_count": 63,
   "metadata": {},
   "outputs": [
    {
     "data": {
      "text/plain": [
       "<BarContainer object of 46 artists>"
      ]
     },
     "execution_count": 63,
     "metadata": {},
     "output_type": "execute_result"
    },
    {
     "data": {
      "image/png": "[encoded data removed]",
      "text/plain": [
       "<Figure size 432x288 with 1 Axes>"
      ]
     },
     "metadata": {
      "needs_background": "light"
     },
     "output_type": "display_data"
    }
   ],
   "source": [
    "res4 = model2.predict(bow1_cut)\n",
    "plt.bar(np.array(range(len(res4[0]))), res4[0], color=\"red\")"
   ]
  },
  {
   "cell_type": "markdown",
   "metadata": {},
   "source": [
    "### confusion 매트릭스 생성"
   ]
  },
  {
   "cell_type": "code",
   "execution_count": 64,
   "metadata": {},
   "outputs": [
    {
     "name": "stdout",
     "output_type": "stream",
     "text": [
      "[[ 7  1  0 ...  0  0  0]\n",
      " [ 0 77  1 ...  0  0  0]\n",
      " [ 0  1  8 ...  0  0  0]\n",
      " ...\n",
      " [ 0  0  0 ...  3  0  0]\n",
      " [ 0  0  0 ...  0  4  0]\n",
      " [ 0  0  0 ...  0  0  1]]\n"
     ]
    },
    {
     "data": {
      "text/plain": [
       "(None, (46, 46))"
      ]
     },
     "execution_count": 64,
     "metadata": {},
     "output_type": "execute_result"
    }
   ],
   "source": [
    "from sklearn.metrics import confusion_matrix\n",
    "\n",
    "conf_mat1 = confusion_matrix(test_onehot_topic.argmax(axis=1), model.predict(test_cut_bow_text2).argmax(axis=1))\n",
    "print(conf_mat1), conf_mat1.shape"
   ]
  },
  {
   "cell_type": "code",
   "execution_count": 66,
   "metadata": {},
   "outputs": [
    {
     "name": "stdout",
     "output_type": "stream",
     "text": [
      "[[ 7  1  0 ...  0  0  0]\n",
      " [ 0 77  2 ...  0  0  0]\n",
      " [ 0  2  7 ...  0  0  0]\n",
      " ...\n",
      " [ 0  0  0 ...  2  0  0]\n",
      " [ 0  0  0 ...  0  4  0]\n",
      " [ 0  0  0 ...  0  0  1]]\n"
     ]
    },
    {
     "data": {
      "text/plain": [
       "(None, (46, 46))"
      ]
     },
     "execution_count": 66,
     "metadata": {},
     "output_type": "execute_result"
    }
   ],
   "source": [
    "conf_mat2 = confusion_matrix(test_onehot_topic.argmax(axis=1), model2.predict(test_cut_bow_text2).argmax(axis=1))\n",
    "print(conf_mat2), conf_mat2.shape"
   ]
  },
  {
   "cell_type": "markdown",
   "metadata": {},
   "source": [
    "### confusion 매트릭스 가시화"
   ]
  },
  {
   "cell_type": "code",
   "execution_count": 67,
   "metadata": {},
   "outputs": [
    {
     "data": {
      "text/plain": [
       "<AxesSubplot:>"
      ]
     },
     "execution_count": 67,
     "metadata": {},
     "output_type": "execute_result"
    },
    {
     "data": {
      "image/png": "[encoded data removed]",
      "text/plain": [
       "<Figure size 432x288 with 2 Axes>"
      ]
     },
     "metadata": {
      "needs_background": "light"
     },
     "output_type": "display_data"
    }
   ],
   "source": [
    "sns.heatmap(conf_mat1)"
   ]
  },
  {
   "cell_type": "code",
   "execution_count": 68,
   "metadata": {},
   "outputs": [
    {
     "data": {
      "text/plain": [
       "<AxesSubplot:>"
      ]
     },
     "execution_count": 68,
     "metadata": {},
     "output_type": "execute_result"
    },
    {
     "data": {
      "image/png": "[encoded data removed]",
      "text/plain": [
       "<Figure size 432x288 with 2 Axes>"
      ]
     },
     "metadata": {
      "needs_background": "light"
     },
     "output_type": "display_data"
    }
   ],
   "source": [
    "sns.heatmap(conf_mat1 / conf_mat1.sum(axis=1))"
   ]
  },
  {
   "cell_type": "code",
   "execution_count": 69,
   "metadata": {},
   "outputs": [
    {
     "data": {
      "text/plain": [
       "<AxesSubplot:>"
      ]
     },
     "execution_count": 69,
     "metadata": {},
     "output_type": "execute_result"
    },
    {
     "data": {
      "image/png": "[encoded data removed]",
      "text/plain": [
       "<Figure size 432x288 with 2 Axes>"
      ]
     },
     "metadata": {
      "needs_background": "light"
     },
     "output_type": "display_data"
    }
   ],
   "source": [
    "sns.heatmap(conf_mat2 / conf_mat2.sum(axis=1))"
   ]
  },
  {
   "cell_type": "markdown",
   "metadata": {},
   "source": [
    "### classification 결과 리포팅"
   ]
  },
  {
   "cell_type": "code",
   "execution_count": 70,
   "metadata": {},
   "outputs": [
    {
     "name": "stdout",
     "output_type": "stream",
     "text": [
      "                 precision    recall  f1-score   support\n",
      "\n",
      "          cocoa       0.41      0.58      0.48        12\n",
      "          grain       0.67      0.73      0.70       105\n",
      "        veg-oil       0.44      0.40      0.42        20\n",
      "           earn       0.91      0.90      0.90       813\n",
      "            acq       0.80      0.76      0.78       474\n",
      "          wheat       0.00      0.00      0.00         5\n",
      "         copper       0.67      0.71      0.69        14\n",
      "        housing       1.00      0.33      0.50         3\n",
      "   money-supply       0.46      0.34      0.39        38\n",
      "         coffee       0.68      0.52      0.59        25\n",
      "          sugar       0.62      0.83      0.71        30\n",
      "          trade       0.42      0.48      0.45        83\n",
      "       reserves       0.22      0.15      0.18        13\n",
      "           ship       0.22      0.38      0.28        37\n",
      "         cotton       0.00      0.00      0.00         2\n",
      "        carcass       0.33      0.22      0.27         9\n",
      "          crude       0.40      0.44      0.42        99\n",
      "        nat-gas       0.00      0.00      0.00        12\n",
      "            cpi       0.39      0.35      0.37        20\n",
      "       money-fx       0.60      0.53      0.57       133\n",
      "       interest       0.35      0.37      0.36        70\n",
      "            gnp       0.32      0.26      0.29        27\n",
      "      meal-feed       0.00      0.00      0.00         7\n",
      "           alum       0.14      0.17      0.15        12\n",
      "        oilseed       0.38      0.42      0.40        19\n",
      "           gold       0.45      0.45      0.45        31\n",
      "            tin       0.50      0.12      0.20         8\n",
      "strategic-metal       0.00      0.00      0.00         4\n",
      "      livestock       0.09      0.10      0.10        10\n",
      "         retail       0.12      0.25      0.17         4\n",
      "            ipi       0.23      0.25      0.24        12\n",
      "     iron-steel       0.14      0.15      0.15        13\n",
      "         rubber       0.33      0.30      0.32        10\n",
      "           heat       0.57      0.80      0.67         5\n",
      "           jobs       0.33      0.43      0.38         7\n",
      "            lei       1.00      0.17      0.29         6\n",
      "            bop       0.06      0.09      0.07        11\n",
      "           zinc       0.00      0.00      0.00         2\n",
      "         orange       0.00      0.00      0.00         3\n",
      "       pet-chem       0.00      0.00      0.00         5\n",
      "            dlr       0.44      0.40      0.42        10\n",
      "            gas       0.00      0.00      0.00         8\n",
      "         silver       0.67      0.67      0.67         3\n",
      "            wpi       0.75      0.50      0.60         6\n",
      "            hog       1.00      0.80      0.89         5\n",
      "           lead       0.50      1.00      0.67         1\n",
      "\n",
      "       accuracy                           0.67      2246\n",
      "      macro avg       0.38      0.36      0.35      2246\n",
      "   weighted avg       0.68      0.67      0.68      2246\n",
      "\n"
     ]
    }
   ],
   "source": [
    "from sklearn.metrics import classification_report\n",
    "\n",
    "print( classification_report(test_onehot_topic.argmax(axis=1), model.predict(test_cut_bow_text2).argmax(axis=1), target_names=raw_labels))"
   ]
  },
  {
   "cell_type": "code",
   "execution_count": 71,
   "metadata": {},
   "outputs": [
    {
     "name": "stdout",
     "output_type": "stream",
     "text": [
      "                 precision    recall  f1-score   support\n",
      "\n",
      "          cocoa       0.70      0.58      0.64        12\n",
      "          grain       0.68      0.73      0.71       105\n",
      "        veg-oil       0.39      0.35      0.37        20\n",
      "           earn       0.91      0.91      0.91       813\n",
      "            acq       0.81      0.80      0.80       474\n",
      "          wheat       0.00      0.00      0.00         5\n",
      "         copper       0.67      0.57      0.62        14\n",
      "        housing       0.33      0.33      0.33         3\n",
      "   money-supply       0.46      0.42      0.44        38\n",
      "         coffee       0.73      0.64      0.68        25\n",
      "          sugar       0.66      0.77      0.71        30\n",
      "          trade       0.56      0.59      0.57        83\n",
      "       reserves       0.25      0.31      0.28        13\n",
      "           ship       0.39      0.32      0.35        37\n",
      "         cotton       0.00      0.00      0.00         2\n",
      "        carcass       0.29      0.22      0.25         9\n",
      "          crude       0.39      0.53      0.45        99\n",
      "        nat-gas       0.08      0.08      0.08        12\n",
      "            cpi       0.45      0.50      0.48        20\n",
      "       money-fx       0.52      0.52      0.52       133\n",
      "       interest       0.41      0.24      0.31        70\n",
      "            gnp       0.25      0.30      0.27        27\n",
      "      meal-feed       0.00      0.00      0.00         7\n",
      "           alum       0.10      0.17      0.12        12\n",
      "        oilseed       0.44      0.42      0.43        19\n",
      "           gold       0.72      0.58      0.64        31\n",
      "            tin       0.50      0.25      0.33         8\n",
      "strategic-metal       0.22      0.50      0.31         4\n",
      "      livestock       0.27      0.40      0.32        10\n",
      "         retail       0.00      0.00      0.00         4\n",
      "            ipi       0.20      0.08      0.12        12\n",
      "     iron-steel       0.06      0.08      0.07        13\n",
      "         rubber       0.25      0.20      0.22        10\n",
      "           heat       1.00      0.80      0.89         5\n",
      "           jobs       0.29      0.29      0.29         7\n",
      "            lei       0.00      0.00      0.00         6\n",
      "            bop       0.22      0.36      0.28        11\n",
      "           zinc       0.00      0.00      0.00         2\n",
      "         orange       0.00      0.00      0.00         3\n",
      "       pet-chem       0.00      0.00      0.00         5\n",
      "            dlr       0.43      0.30      0.35        10\n",
      "            gas       0.00      0.00      0.00         8\n",
      "         silver       0.00      0.00      0.00         3\n",
      "            wpi       0.20      0.33      0.25         6\n",
      "            hog       0.67      0.80      0.73         5\n",
      "           lead       0.50      1.00      0.67         1\n",
      "\n",
      "       accuracy                           0.69      2246\n",
      "      macro avg       0.35      0.35      0.34      2246\n",
      "   weighted avg       0.70      0.69      0.69      2246\n",
      "\n"
     ]
    }
   ],
   "source": [
    "print( classification_report(test_onehot_topic.argmax(axis=1), model2.predict(test_cut_bow_text[...,-200:]).argmax(axis=1), target_names=raw_labels) )"
   ]
  },
  {
   "cell_type": "markdown",
   "metadata": {},
   "source": [
    "## 6. 모델 저장 및 로드, 다운"
   ]
  },
  {
   "cell_type": "code",
   "execution_count": 72,
   "metadata": {},
   "outputs": [],
   "source": [
    "model.save('./lecture10.h5')"
   ]
  },
  {
   "cell_type": "code",
   "execution_count": 73,
   "metadata": {},
   "outputs": [
    {
     "name": "stderr",
     "output_type": "stream",
     "text": [
      "'ls'��(��) ���� �Ǵ� �ܺ� ����, ������ �� �ִ� ���α׷�, �Ǵ�\n",
      "��ġ ������ �ƴմϴ�.\n"
     ]
    }
   ],
   "source": [
    "!ls -alh"
   ]
  },
  {
   "cell_type": "markdown",
   "metadata": {},
   "source": [
    "### 모델 파일을 새로운 모델에 로드"
   ]
  },
  {
   "cell_type": "code",
   "execution_count": 74,
   "metadata": {},
   "outputs": [],
   "source": [
    "# 모델을 로드하는 코드\n",
    "new_model = tf.keras.models.load_model('./lecture10.h5')"
   ]
  },
  {
   "cell_type": "code",
   "execution_count": 75,
   "metadata": {},
   "outputs": [
    {
     "name": "stdout",
     "output_type": "stream",
     "text": [
      "Model: \"model\"\n",
      "_________________________________________________________________\n",
      " Layer (type)                Output Shape              Param #   \n",
      "=================================================================\n",
      " input_1 (InputLayer)        [(None, 200)]             0         \n",
      "                                                                 \n",
      " embedding (Embedding)       (None, 200, 120)          3717600   \n",
      "                                                                 \n",
      " gru (GRU)                   (None, 64)                35712     \n",
      "                                                                 \n",
      " dense (Dense)               (None, 46)                2990      \n",
      "                                                                 \n",
      "=================================================================\n",
      "Total params: 3,756,302\n",
      "Trainable params: 3,756,302\n",
      "Non-trainable params: 0\n",
      "_________________________________________________________________\n"
     ]
    }
   ],
   "source": [
    "new_model.summary()"
   ]
  },
  {
   "cell_type": "markdown",
   "metadata": {},
   "source": [
    "### 로드한 모델을 test 데이터로 평가"
   ]
  },
  {
   "cell_type": "code",
   "execution_count": 76,
   "metadata": {},
   "outputs": [
    {
     "name": "stdout",
     "output_type": "stream",
     "text": [
      "71/71 [==============================] - 2s 19ms/step - loss: 1.7460 - accuracy: 0.6745\n",
      "1.7460391521453857 0.6745324730873108\n"
     ]
    }
   ],
   "source": [
    "loss, acc = new_model.evaluate(test_cut_bow_text2, test_onehot_topic, verbose=1)\n",
    "print(loss, acc)"
   ]
  },
  {
   "cell_type": "code",
   "execution_count": null,
   "metadata": {},
   "outputs": [],
   "source": []
  }
 ],
 "metadata": {
  "interpreter": {
   "hash": "cdd1e8f8fb579aa66e0f484f6a6cae2d458c9dc791e8ddee7766d0a93b0cffce"
  },
  "kernelspec": {
   "display_name": "Python 3.8.12 64-bit ('new-env': conda)",
   "language": "python",
   "name": "python3"
  },
  "language_info": {
   "codemirror_mode": {
    "name": "ipython",
    "version": 3
   },
   "file_extension": ".py",
   "mimetype": "text/x-python",
   "name": "python",
   "nbconvert_exporter": "python",
   "pygments_lexer": "ipython3",
   "version": "3.8.12"
  },
  "orig_nbformat": 4
 },
 "nbformat": 4,
 "nbformat_minor": 2
}
