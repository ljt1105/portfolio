{
 "cells": [
  {
   "cell_type": "code",
   "execution_count": 1,
   "metadata": {},
   "outputs": [],
   "source": [
    "#패키지 준비\n",
    "\n",
    "import pymysql\n",
    "import pandas as pd"
   ]
  },
  {
   "cell_type": "code",
   "execution_count": 2,
   "metadata": {},
   "outputs": [
    {
     "name": "stdout",
     "output_type": "stream",
     "text": [
      "<class 'pandas.core.frame.DataFrame'>\n",
      "RangeIndex: 46919 entries, 0 to 46918\n",
      "Data columns (total 15 columns):\n",
      " #   Column        Non-Null Count  Dtype \n",
      "---  ------        --------------  ----- \n",
      " 0   movieCd       46919 non-null  object\n",
      " 1   movieNm       46919 non-null  object\n",
      " 2   movieNmEn     46919 non-null  object\n",
      " 3   showTm        46110 non-null  object\n",
      " 4   prdtYear      46824 non-null  object\n",
      " 5   openDt        18630 non-null  object\n",
      " 6   nationsNm     46919 non-null  object\n",
      " 7   genreNm       46919 non-null  object\n",
      " 8   directors_ko  46919 non-null  object\n",
      " 9   directors_en  46919 non-null  object\n",
      " 10  actors_ko     46919 non-null  object\n",
      " 11  actors_en     46919 non-null  object\n",
      " 12  cast          46919 non-null  object\n",
      " 13  castEn        46919 non-null  object\n",
      " 14  watchGradeNm  46919 non-null  object\n",
      "dtypes: object(15)\n",
      "memory usage: 5.4+ MB\n",
      "None\n",
      "['임현제', '진소춘', '임가동']\n",
      "[\n"
     ]
    }
   ],
   "source": [
    "# 파일 불러오기 및 구조 확인\n",
    "\n",
    "movie_info_result = pd.read_csv('..\\data-files\\movie_info_result.csv', encoding='utf-8')\n",
    "\n",
    "print(movie_info_result.info())\n",
    "print(movie_info_result['actors_ko'][46916])\n",
    "print(movie_info_result['actors_ko'][46916][0])\n",
    "# *배우 컬럼 안의 \"[\", \"]\", \",\", \"'\", \" \" 모두 문자열로 인식되어 들어가 있는 문제"
   ]
  },
  {
   "cell_type": "code",
   "execution_count": 3,
   "metadata": {},
   "outputs": [
    {
     "name": "stdout",
     "output_type": "stream",
     "text": [
      "['임현제', '진소춘', '임가동']\n",
      "임현제\n"
     ]
    }
   ],
   "source": [
    "# 특수문자 제거 및 배우명 분리\n",
    "\n",
    "test = movie_info_result\n",
    "test['actors_ko'] = test['actors_ko'].str.strip(\"[]\")\n",
    "test['actors_ko2'] = test['actors_ko'].map(lambda x : x.split(\",\"))\n",
    "\n",
    "itsKo = []\n",
    "\n",
    "for idx, item in enumerate(test['actors_ko2']):\n",
    "    wow = []\n",
    "    test['actors_ko2'][idx] = wow\n",
    "    for it in item:\n",
    "        it = it.strip(\" \").strip(\"'\")\n",
    "        wow.append(it)\n",
    "        itsKo.append(it)\n",
    "\n",
    "print(test['actors_ko2'][46916])\n",
    "print(test['actors_ko2'][46916][0])\n"
   ]
  },
  {
   "cell_type": "code",
   "execution_count": 4,
   "metadata": {},
   "outputs": [],
   "source": [
    "# 중복값을 없앤 후 저장\n",
    "\n",
    "aKo = itsKo\n",
    "processed_aKo = set(aKo)"
   ]
  },
  {
   "cell_type": "code",
   "execution_count": 5,
   "metadata": {},
   "outputs": [],
   "source": [
    "# Actor 테이블에 Insert\n",
    "\n",
    "conn = pymysql.connect(host=\"localhost\",\n",
    "                       database=\"firstkino\",\n",
    "                       user=\"kdigital\",\n",
    "                       password=\"mysql\",\n",
    "                       charset=\"utf8\")\n",
    "\n",
    "with conn.cursor() as cursor:\n",
    "    for post in processed_aKo:\n",
    "        cursor.execute(\"INSERT INTO Actor (peopleNm) values (%s)\", (post))\n",
    "    conn.commit()\n",
    "\n",
    "conn.close()"
   ]
  }
 ],
 "metadata": {
  "interpreter": {
   "hash": "cdd1e8f8fb579aa66e0f484f6a6cae2d458c9dc791e8ddee7766d0a93b0cffce"
  },
  "kernelspec": {
   "display_name": "Python 3.8.12 64-bit ('new-env': conda)",
   "language": "python",
   "name": "python3"
  },
  "language_info": {
   "codemirror_mode": {
    "name": "ipython",
    "version": 3
   },
   "file_extension": ".py",
   "mimetype": "text/x-python",
   "name": "python",
   "nbconvert_exporter": "python",
   "pygments_lexer": "ipython3",
   "version": "3.8.12"
  },
  "orig_nbformat": 4
 },
 "nbformat": 4,
 "nbformat_minor": 2
}
