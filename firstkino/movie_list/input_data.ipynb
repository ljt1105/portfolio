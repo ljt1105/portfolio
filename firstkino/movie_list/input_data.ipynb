{
 "cells": [
  {
   "cell_type": "code",
   "execution_count": 1,
   "metadata": {},
   "outputs": [],
   "source": [
    "#패키지 준비\n",
    "\n",
    "import pymysql\n",
    "import pandas as pd"
   ]
  },
  {
   "cell_type": "code",
   "execution_count": 2,
   "metadata": {},
   "outputs": [
    {
     "name": "stdout",
     "output_type": "stream",
     "text": [
      "<class 'pandas.core.frame.DataFrame'>\n",
      "RangeIndex: 47051 entries, 0 to 47050\n",
      "Data columns (total 12 columns):\n",
      " #   Column       Non-Null Count  Dtype \n",
      "---  ------       --------------  ----- \n",
      " 0   movieCd      47051 non-null  object\n",
      " 1   directors    47051 non-null  object\n",
      " 2   movieNm      47051 non-null  object\n",
      " 3   movieNmEn    47051 non-null  object\n",
      " 4   prdtYear     47051 non-null  object\n",
      " 5   openDt       47051 non-null  object\n",
      " 6   typeNm       46994 non-null  object\n",
      " 7   prdtStatNm   46913 non-null  object\n",
      " 8   nationAlt    46962 non-null  object\n",
      " 9   repNationNm  46968 non-null  object\n",
      " 10  genreAlt     47051 non-null  object\n",
      " 11  repGenreNm   47051 non-null  object\n",
      "dtypes: object(12)\n",
      "memory usage: 4.3+ MB\n",
      "None\n",
      "==========================\n",
      "['20206061', '콜린 트레보로우', '쥬라기 월드: 도미니언', 'Jurassic World: Dominion', '2022', '0', '장편', '개봉예정', '미국', '미국', '액션,어드벤처', '액션']\n"
     ]
    }
   ],
   "source": [
    "#csv 파일을 DataFrame형식으로 불러와서 MySQL에 들어갈 수 있도록 nan -> None 변환 및 데이터 속성 변경 후 list형식으로 변환\n",
    "\n",
    "df = pd.read_csv(\"..\\data-files\\movie_list_result.csv\", encoding='utf-8')\n",
    "df = df.where((pd.notnull(df)), None)\n",
    "df['movieCd'] = df['movieCd'].astype('int').astype('str')\n",
    "df['prdtYear'] = df['prdtYear'].astype('int').astype('str')\n",
    "df['openDt'] = df['openDt'].astype('int').astype('str')\n",
    "\n",
    "print(df.info())\n",
    "\n",
    "print(\"==========================\")\n",
    "s = df.values.tolist()\n",
    "print(s[0])\n"
   ]
  },
  {
   "cell_type": "code",
   "execution_count": 3,
   "metadata": {},
   "outputs": [],
   "source": [
    "# 테이블 초기화\n",
    "\n",
    "conn = pymysql.connect(host=\"localhost\",\n",
    "                       database=\"firstkino\",\n",
    "                       user=\"kdigital\",\n",
    "                       password=\"mysql\",\n",
    "                       charset=\"utf8\")\n",
    "\n",
    "with conn.cursor() as cursor:\n",
    "    cursor.execute('DELETE FROM movie')\n",
    "\n",
    "conn.close()"
   ]
  },
  {
   "cell_type": "code",
   "execution_count": 4,
   "metadata": {},
   "outputs": [],
   "source": [
    "# list형식의 데이터를 테이블에 넣는 작업\n",
    "\n",
    "conn = pymysql.connect(host=\"localhost\",\n",
    "                       database=\"firstkino\",\n",
    "                       user=\"kdigital\",\n",
    "                       password=\"mysql\",\n",
    "                       charset=\"utf8\")\n",
    "\n",
    "with conn.cursor() as cursor:\n",
    "    for post in s:\n",
    "        cursor.execute(\"INSERT INTO movie (movieCd, movieNm, movieNmEn, prdtYear, openDt) values (%s, %s, %s, %s, %s)\", \n",
    "                       (post[0], post[2], post[3], post[4], post[5]))\n",
    "    conn.commit()\n",
    "\n",
    "conn.close()"
   ]
  }
 ],
 "metadata": {
  "interpreter": {
   "hash": "cdd1e8f8fb579aa66e0f484f6a6cae2d458c9dc791e8ddee7766d0a93b0cffce"
  },
  "kernelspec": {
   "display_name": "Python 3.8.12 64-bit ('new-env': conda)",
   "language": "python",
   "name": "python3"
  },
  "language_info": {
   "codemirror_mode": {
    "name": "ipython",
    "version": 3
   },
   "file_extension": ".py",
   "mimetype": "text/x-python",
   "name": "python",
   "nbconvert_exporter": "python",
   "pygments_lexer": "ipython3",
   "version": "3.8.12"
  },
  "orig_nbformat": 4
 },
 "nbformat": 4,
 "nbformat_minor": 2
}
