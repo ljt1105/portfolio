{
 "cells": [
  {
   "cell_type": "code",
   "execution_count": 2,
   "metadata": {},
   "outputs": [],
   "source": [
    "#패키지 준비\n",
    "\n",
    "import pymysql\n",
    "import pandas as pd"
   ]
  },
  {
   "cell_type": "code",
   "execution_count": 3,
   "metadata": {},
   "outputs": [],
   "source": [
    "# 파일 읽어오기\n",
    "\n",
    "movie_info_result = pd.read_csv('..\\data-files\\movie_info_result.csv', encoding='utf-8')"
   ]
  },
  {
   "cell_type": "code",
   "execution_count": 4,
   "metadata": {},
   "outputs": [
    {
     "name": "stdout",
     "output_type": "stream",
     "text": [
      "<class 'pandas.core.frame.DataFrame'>\n",
      "RangeIndex: 46919 entries, 0 to 46918\n",
      "Data columns (total 15 columns):\n",
      " #   Column        Non-Null Count  Dtype \n",
      "---  ------        --------------  ----- \n",
      " 0   movieCd       46919 non-null  object\n",
      " 1   movieNm       46919 non-null  object\n",
      " 2   movieNmEn     46919 non-null  object\n",
      " 3   showTm        46110 non-null  object\n",
      " 4   prdtYear      46824 non-null  object\n",
      " 5   openDt        18630 non-null  object\n",
      " 6   nationsNm     46919 non-null  object\n",
      " 7   genreNm       46919 non-null  object\n",
      " 8   directors_ko  46919 non-null  object\n",
      " 9   directors_en  46919 non-null  object\n",
      " 10  actors_ko     46919 non-null  object\n",
      " 11  actors_en     46919 non-null  object\n",
      " 12  cast          46919 non-null  object\n",
      " 13  castEn        46919 non-null  object\n",
      " 14  watchGradeNm  46919 non-null  object\n",
      "dtypes: object(15)\n",
      "memory usage: 5.4+ MB\n",
      "None\n",
      "['프랭크 후이', '구문걸', '비키 웅']\n",
      "[\n"
     ]
    }
   ],
   "source": [
    "print(movie_info_result.info())\n",
    "print(movie_info_result['directors_ko'][46916])\n",
    "print(movie_info_result['directors_ko'][46916][0])\n",
    "# 감독 컬럼 안의 \"[\", \"]\", \",\", \"'\", \" \" 모두 문자열로 인식되어 들어가 있는 문제"
   ]
  },
  {
   "cell_type": "code",
   "execution_count": 5,
   "metadata": {},
   "outputs": [
    {
     "name": "stdout",
     "output_type": "stream",
     "text": [
      "['프랭크 후이', '구문걸', '비키 웅']\n"
     ]
    }
   ],
   "source": [
    "# 문제를 해결하기 위해 strip을 이용해 불필요한 특수문자('[',']',\"'\"\")와 공백을 제거하고 \",\"을 기준으로 이름을 나눠주는 코드\n",
    "\n",
    "test = movie_info_result\n",
    "test['directors_ko'] = test['directors_ko'].str.strip(\"[]\")\n",
    "test['directors_ko2'] = test['directors_ko'].map(lambda x : x.split(\",\"))\n",
    "\n",
    "itsKo = []\n",
    "\n",
    "for idx, item in enumerate(test['directors_ko2']):\n",
    "    wow = []\n",
    "    test['directors_ko2'][idx] = wow\n",
    "    for it in item:\n",
    "        it = it.strip(\" \").strip(\"'\")\n",
    "        wow.append(it)\n",
    "        itsKo.append(it)\n",
    "\n",
    "\n",
    "print(test['directors_ko2'][46916])\n"
   ]
  },
  {
   "cell_type": "code",
   "execution_count": 7,
   "metadata": {},
   "outputs": [
    {
     "name": "stdout",
     "output_type": "stream",
     "text": [
      "72\n"
     ]
    },
    {
     "ename": "NameError",
     "evalue": "name 'itsko' is not defined",
     "output_type": "error",
     "traceback": [
      "\u001b[1;31m---------------------------------------------------------------------------\u001b[0m",
      "\u001b[1;31mNameError\u001b[0m                                 Traceback (most recent call last)",
      "\u001b[1;32mC:\\Users\\Public\\Documents\\ESTsoft\\CreatorTemp/ipykernel_22272/2327539711.py\u001b[0m in \u001b[0;36m<module>\u001b[1;34m\u001b[0m\n\u001b[0;32m      1\u001b[0m \u001b[0mprint\u001b[0m\u001b[1;33m(\u001b[0m\u001b[0mitsKo\u001b[0m\u001b[1;33m.\u001b[0m\u001b[0mcount\u001b[0m\u001b[1;33m(\u001b[0m\u001b[1;34m'임권택'\u001b[0m\u001b[1;33m)\u001b[0m\u001b[1;33m)\u001b[0m\u001b[1;33m\u001b[0m\u001b[1;33m\u001b[0m\u001b[0m\n\u001b[1;32m----> 2\u001b[1;33m \u001b[0mprint\u001b[0m\u001b[1;33m(\u001b[0m\u001b[0mitsko\u001b[0m\u001b[1;33m.\u001b[0m\u001b[0mcount\u001b[0m\u001b[1;33m(\u001b[0m\u001b[1;34m'고영남'\u001b[0m\u001b[1;33m)\u001b[0m\u001b[1;33m)\u001b[0m\u001b[1;33m\u001b[0m\u001b[1;33m\u001b[0m\u001b[0m\n\u001b[0m",
      "\u001b[1;31mNameError\u001b[0m: name 'itsko' is not defined"
     ]
    }
   ],
   "source": [
    "print(itsKo.count('임권택'))\n",
    "print(itsKo.count('고영남'))"
   ]
  },
  {
   "cell_type": "code",
   "execution_count": 5,
   "metadata": {},
   "outputs": [],
   "source": [
    "# 중복값을 없앤 후 저장\n",
    "\n",
    "dKo = itsKo\n",
    "processed_dKo = set(dKo)"
   ]
  },
  {
   "cell_type": "code",
   "execution_count": 6,
   "metadata": {},
   "outputs": [],
   "source": [
    "# Director 테이블에 Insert\n",
    "\n",
    "conn = pymysql.connect(host=\"localhost\",\n",
    "                       database=\"firstkino\",\n",
    "                       user=\"kdigital\",\n",
    "                       password=\"mysql\",\n",
    "                       charset=\"utf8\")\n",
    "\n",
    "with conn.cursor() as cursor:\n",
    "    for post in processed_dKo:\n",
    "        cursor.execute(\"INSERT INTO Director (peopleNm) values (%s)\", (post))\n",
    "    conn.commit()\n",
    "\n",
    "conn.close()"
   ]
  }
 ],
 "metadata": {
  "interpreter": {
   "hash": "cdd1e8f8fb579aa66e0f484f6a6cae2d458c9dc791e8ddee7766d0a93b0cffce"
  },
  "kernelspec": {
   "display_name": "Python 3.8.12 64-bit ('new-env': conda)",
   "language": "python",
   "name": "python3"
  },
  "language_info": {
   "codemirror_mode": {
    "name": "ipython",
    "version": 3
   },
   "file_extension": ".py",
   "mimetype": "text/x-python",
   "name": "python",
   "nbconvert_exporter": "python",
   "pygments_lexer": "ipython3",
   "version": "3.8.12"
  },
  "orig_nbformat": 4
 },
 "nbformat": 4,
 "nbformat_minor": 2
}
