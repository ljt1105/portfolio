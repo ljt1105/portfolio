{
 "cells": [
  {
   "cell_type": "code",
   "execution_count": 96,
   "metadata": {},
   "outputs": [],
   "source": [
    "# 패키지 준비\n",
    "\n",
    "import pymysql\n",
    "import pandas as pd"
   ]
  },
  {
   "cell_type": "code",
   "execution_count": 97,
   "metadata": {},
   "outputs": [],
   "source": [
    "# 파일 불러오기\n",
    "\n",
    "movie_info_result = pd.read_csv('..\\data-files\\movie_info_result.csv', encoding='utf-8')"
   ]
  },
  {
   "cell_type": "code",
   "execution_count": 98,
   "metadata": {},
   "outputs": [],
   "source": [
    "# 데이터에 붙어있는 불필요한 특수문자 제거 및 분할 작업\n",
    "\n",
    "df = movie_info_result\n",
    "df['watchGradeNm2'] = df['watchGradeNm'].str.strip(\"[]\")\n",
    "df['watchGradeNm2'] = df['watchGradeNm2'].map(lambda x : x.split(\",\"))\n",
    "\n",
    "itsGr = []\n",
    "\n",
    "for idx, item in enumerate(df['watchGradeNm2']):\n",
    "    wow = []\n",
    "    df['watchGradeNm2'][idx] = wow\n",
    "    for it in item:\n",
    "        it = it.strip(\" \").strip(\"'\")\n",
    "        wow.append(it)\n",
    "        itsGr.append(it)\n",
    "\n"
   ]
  },
  {
   "cell_type": "code",
   "execution_count": 103,
   "metadata": {},
   "outputs": [],
   "source": [
    "# 중복값 제거\n",
    "\n",
    "grade = itsGr\n",
    "\n",
    "processed_gr = set(grade)"
   ]
  },
  {
   "cell_type": "code",
   "execution_count": 107,
   "metadata": {},
   "outputs": [],
   "source": [
    "# 전처리 중 생긴 이상값 제거\n",
    "\n",
    "processed_gr.remove('watchGradeNm')"
   ]
  },
  {
   "cell_type": "code",
   "execution_count": 108,
   "metadata": {},
   "outputs": [
    {
     "data": {
      "text/plain": [
       "{'',\n",
       " '12세 미만인 자는 관람할 수 없는 등급',\n",
       " '12세관람가',\n",
       " '12세이상관람가',\n",
       " '15세 미만인 자는 관람할 수 없는 등급 ',\n",
       " '15세관람가',\n",
       " '15세이상관람가',\n",
       " '18세 미만인 자는 관람할 수 없는 등급',\n",
       " '18세관람가',\n",
       " '고등학생이상관람가',\n",
       " '국민학생관람불가',\n",
       " '기타',\n",
       " '모든 관람객이 관람할 수 있는 등급',\n",
       " '미성년자관람가',\n",
       " '미성년자관람불가',\n",
       " '미정',\n",
       " '연소자관람가',\n",
       " '연소자관람불가',\n",
       " '전체관람가',\n",
       " '제한상영가',\n",
       " '중학생이상관람가',\n",
       " '청소년관람불가'}"
      ]
     },
     "execution_count": 108,
     "metadata": {},
     "output_type": "execute_result"
    }
   ],
   "source": [
    "# 확인\n",
    "\n",
    "processed_gr"
   ]
  },
  {
   "cell_type": "code",
   "execution_count": 109,
   "metadata": {},
   "outputs": [],
   "source": [
    "# Director 테이블에 Insert\n",
    "\n",
    "conn = pymysql.connect(host=\"localhost\",\n",
    "                       database=\"firstkino\",\n",
    "                       user=\"kdigital\",\n",
    "                       password=\"mysql\",\n",
    "                       charset=\"utf8\")\n",
    "\n",
    "with conn.cursor() as cursor:\n",
    "    for post in processed_gr:\n",
    "        cursor.execute(\"INSERT INTO WatchGrade (watchGradeNm) values (%s)\", (post))\n",
    "    conn.commit()\n",
    "\n",
    "conn.close()"
   ]
  }
 ],
 "metadata": {
  "interpreter": {
   "hash": "cdd1e8f8fb579aa66e0f484f6a6cae2d458c9dc791e8ddee7766d0a93b0cffce"
  },
  "kernelspec": {
   "display_name": "Python 3.8.12 64-bit ('new-env': conda)",
   "language": "python",
   "name": "python3"
  },
  "language_info": {
   "codemirror_mode": {
    "name": "ipython",
    "version": 3
   },
   "file_extension": ".py",
   "mimetype": "text/x-python",
   "name": "python",
   "nbconvert_exporter": "python",
   "pygments_lexer": "ipython3",
   "version": "3.8.12"
  },
  "orig_nbformat": 4
 },
 "nbformat": 4,
 "nbformat_minor": 2
}
