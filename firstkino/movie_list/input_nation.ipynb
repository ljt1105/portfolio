{
 "cells": [
  {
   "cell_type": "code",
   "execution_count": 3,
   "metadata": {},
   "outputs": [],
   "source": [
    "#패키지 준비\n",
    "\n",
    "import pymysql\n",
    "import pandas as pd"
   ]
  },
  {
   "cell_type": "code",
   "execution_count": 6,
   "metadata": {},
   "outputs": [
    {
     "name": "stdout",
     "output_type": "stream",
     "text": [
      "<class 'pandas.core.frame.DataFrame'>\n",
      "RangeIndex: 47051 entries, 0 to 47050\n",
      "Data columns (total 12 columns):\n",
      " #   Column       Non-Null Count  Dtype \n",
      "---  ------       --------------  ----- \n",
      " 0   movieCd      47051 non-null  object\n",
      " 1   directors    47051 non-null  object\n",
      " 2   movieNm      47051 non-null  object\n",
      " 3   movieNmEn    47051 non-null  object\n",
      " 4   prdtYear     47051 non-null  object\n",
      " 5   openDt       47051 non-null  object\n",
      " 6   typeNm       47051 non-null  object\n",
      " 7   prdtStatNm   47051 non-null  object\n",
      " 8   nationAlt    47051 non-null  object\n",
      " 9   repNationNm  47051 non-null  object\n",
      " 10  genreAlt     47051 non-null  object\n",
      " 11  repGenreNm   47051 non-null  object\n",
      "dtypes: object(12)\n",
      "memory usage: 4.3+ MB\n",
      "None\n",
      "==========================\n",
      "{'아프카니스탄', '인도네시아', '페루', '카타르', '슬로바키아', '체코', '부탄', '스페인', '노르웨이', '북한', '칠레', '그리스', '불가리아', '말레이시아', '벨기에', '아이슬란드', '폴란드', '기타', '필리핀', '오스트리아 ', '베트남', '남아프리카공화국', '몽고', '베네수엘라', '마케도니아', '뉴질랜드', '룩셈부르크', '중국', '싱가포르', '프랑스', '이스라엘', '이집트', '쿠바', '루마니아', '러시아', '호주', '멕시코', '이라크', '크로아티아', '브라질', '스위스', '자메이카', '몰타', '태국', '소련', '우즈베키스탄', '핀란드', '덴마크', '대만', '독일', '아랍에미리트연합국정부', '카자흐스탄', '에스토니아', '스웨덴', '영국', '인도', '한국', '서독', '잉글랜드', '포르투갈', '유고슬라비아', '콜롬비아', '보스니아', '아르헨티나', '네덜란드', '이탈리아', '우루과이', '터키', '캐나다', '-', '일본', '아일랜드', '나이지리아', '캄보디아', '팔레스타인', '미국', '우크라이나', '모로코', '이란', '헝가리', '홍콩', '세르비아'}\n"
     ]
    }
   ],
   "source": [
    "# csv 파일을 DataFrame형식으로 불러와서 MySQL에 들어갈 수 있도록 nan -> None 변환 및 데이터 속성 변경 후 list형식으로 변환\n",
    "# 중복값 제거\n",
    "\n",
    "df = pd.read_csv(\"..\\data-files\\movie_list_result.csv\", encoding='utf-8')\n",
    "df = df.where((pd.notnull(df)), '-')\n",
    "df['movieCd'] = df['movieCd'].astype('int').astype('str')\n",
    "df['prdtYear'] = df['prdtYear'].astype('int').astype('str')\n",
    "df['openDt'] = df['openDt'].astype('int').astype('str')\n",
    "\n",
    "print(df.info())\n",
    "\n",
    "print(\"==========================\")\n",
    "nation = df['repNationNm']\n",
    "processed_nation = set(nation)\n",
    "print(processed_nation)"
   ]
  },
  {
   "cell_type": "code",
   "execution_count": 7,
   "metadata": {},
   "outputs": [],
   "source": [
    "# DB에 데이터 넣는 코드\n",
    "\n",
    "conn = pymysql.connect(host=\"localhost\",\n",
    "                       database=\"firstkino\",\n",
    "                       user=\"kdigital\",\n",
    "                       password=\"mysql\",\n",
    "                       charset=\"utf8\")\n",
    "\n",
    "with conn.cursor() as cursor:\n",
    "    for post in processed_nation:\n",
    "        cursor.execute(\"INSERT INTO Nation (nationNm) values (%s)\", (post))\n",
    "    conn.commit()\n",
    "\n",
    "conn.close()"
   ]
  }
 ],
 "metadata": {
  "interpreter": {
   "hash": "cdd1e8f8fb579aa66e0f484f6a6cae2d458c9dc791e8ddee7766d0a93b0cffce"
  },
  "kernelspec": {
   "display_name": "Python 3.8.12 64-bit ('new-env': conda)",
   "language": "python",
   "name": "python3"
  },
  "language_info": {
   "codemirror_mode": {
    "name": "ipython",
    "version": 3
   },
   "file_extension": ".py",
   "mimetype": "text/x-python",
   "name": "python",
   "nbconvert_exporter": "python",
   "pygments_lexer": "ipython3",
   "version": "3.8.12"
  },
  "orig_nbformat": 4
 },
 "nbformat": 4,
 "nbformat_minor": 2
}
