{
 "cells": [
  {
   "cell_type": "code",
   "execution_count": 2,
   "metadata": {},
   "outputs": [],
   "source": [
    "# api로 가져온 영화상세보기 csv 파일 합치기\n",
    "# csv 파일 1~46962까지 병합"
   ]
  },
  {
   "cell_type": "code",
   "execution_count": 3,
   "metadata": {},
   "outputs": [
    {
     "data": {
      "text/plain": [
       "52922"
      ]
     },
     "execution_count": 3,
     "metadata": {},
     "output_type": "execute_result"
    }
   ],
   "source": [
    "# merge concat\n",
    "# 1. import 설정하기\n",
    "\n",
    "import pandas as pd\n",
    "import glob\n",
    "import os\n",
    "import csv\n",
    "\n",
    "# 2. merge해야하는 csv 파일 input/output 설정\n",
    "\n",
    "#input_file = csv 파일이 있는 디렉토리 위치\n",
    "input_file = r'C:\\bigdata\\workspaces\\final-project\\movieapi\\data-files\\movie_info_result'\n",
    "\n",
    "# merge 파일 저장할 디렉토리 위치, 파일명 지정\n",
    "outout_file = r'C:\\bigdata\\workspaces\\final-project\\movieapi\\data-files\\movie_info_result\\movie_info_result.csv'\n",
    "\n",
    "# 3. glob함수로 파일 모으기\n",
    "\n",
    "# 3-1.'movie_info_detail'로 시작하는파일 모으기\n",
    "allFile_list = glob.glob(os.path.join(input_file, 'movie_info_*'))\n",
    "\n",
    "# 3-2. 모은 파일 확인\n",
    "# print(allFile_list) # 모은 파일 확인\n",
    "# len(allFile_list) # 모은 파일 개수 확인\n",
    "\n",
    "# 3-3. csv파일을 저장할 빈 리스트 만들고 내용 추가하기\n",
    "\n",
    "allData = [] # 리스트 생성\n",
    "\n",
    "for file in allFile_list:\n",
    "    df = pd.read_csv(file) # for 구문으로 csv 파일 읽기\n",
    "    allData.append(df) # 빈 리스트에 읽은 내용 추가\n",
    "\n",
    "# 4. 데이터 합치기(merge), CSV 파일 만들기\n",
    "# pandas concat 함수 사용하여 리스트 병합\n",
    "\n",
    "# 4-1. concat으로 데이터 병합하기\n",
    "movie_info_result = pd.concat(allData, axis=0, ignore_index=True) # axis=0(수직으로 병합), ignore_index = 인덱스 무시하기)\n",
    "\n",
    "# 4-2. 병합한 데이터 CSV파일 생성하기\n",
    "movie_info_result.to_csv(\"movie_info_result.csv\", mode='w', encoding='utf-8', index=False)\n",
    "len(movie_info_result)\n"
   ]
  },
  {
   "cell_type": "code",
   "execution_count": 4,
   "metadata": {},
   "outputs": [
    {
     "data": {
      "text/plain": [
       "52922"
      ]
     },
     "execution_count": 4,
     "metadata": {},
     "output_type": "execute_result"
    }
   ],
   "source": [
    "# 5. 합본 실패\n",
    "# 실패 사유 : 합본 46952건이 나와야하나 52922건이 나옴\n",
    "len(movie_info_result)\n"
   ]
  },
  {
   "cell_type": "code",
   "execution_count": 5,
   "metadata": {},
   "outputs": [
    {
     "data": {
      "text/plain": [
       "46921"
      ]
     },
     "execution_count": 5,
     "metadata": {},
     "output_type": "execute_result"
    }
   ],
   "source": [
    "# 5-1. movieCd 중복값 제거\n",
    "movie_info_result = movie_info_result.drop_duplicates(subset=['movieCd'], keep='first')\n",
    "\n",
    "# movie_info_result 개수 확인\n",
    "len(movie_info_result)"
   ]
  },
  {
   "cell_type": "code",
   "execution_count": 6,
   "metadata": {},
   "outputs": [
    {
     "data": {
      "text/plain": [
       "46919"
      ]
     },
     "execution_count": 6,
     "metadata": {},
     "output_type": "execute_result"
    }
   ],
   "source": [
    "# 5-2. 영화 상세보기에서 movieCd에 들어있는 \"======\" 이상치 제거\n",
    "movie_info_result = movie_info_result[~movie_info_result['movieCd'].str.contains(\"=====\", na=False, case=False)]\n",
    "len(movie_info_result)\n",
    "\n",
    "# 5-3. 영화 상세보기에서 movieCd에 들어있는 \"======\" 이상치 제거\n",
    "movie_info_result = movie_info_result[~movie_info_result['movieCd'].str.contains(\">>>>\", na=False, case=False)]\n",
    "len(movie_info_result)"
   ]
  },
  {
   "cell_type": "code",
   "execution_count": 7,
   "metadata": {},
   "outputs": [
    {
     "data": {
      "text/plain": [
       "46919"
      ]
     },
     "execution_count": 7,
     "metadata": {},
     "output_type": "execute_result"
    }
   ],
   "source": [
    "# 영화코드 중복값 제거\n",
    "movie_info_result = movie_info_result.drop_duplicates(subset=['movieCd'], keep='first')\n",
    "len(movie_info_result)"
   ]
  },
  {
   "cell_type": "code",
   "execution_count": 1,
   "metadata": {},
   "outputs": [
    {
     "ename": "NameError",
     "evalue": "name 'movie_info_result' is not defined",
     "output_type": "error",
     "traceback": [
      "\u001b[1;31m---------------------------------------------------------------------------\u001b[0m",
      "\u001b[1;31mNameError\u001b[0m                                 Traceback (most recent call last)",
      "\u001b[1;32m~\\AppData\\Local\\Temp/ipykernel_14920/404007311.py\u001b[0m in \u001b[0;36m<module>\u001b[1;34m\u001b[0m\n\u001b[1;32m----> 1\u001b[1;33m \u001b[0mmovie_info_result\u001b[0m\u001b[1;33m.\u001b[0m\u001b[0mhead\u001b[0m\u001b[1;33m(\u001b[0m\u001b[1;36m1\u001b[0m\u001b[1;33m)\u001b[0m\u001b[1;33m\u001b[0m\u001b[1;33m\u001b[0m\u001b[0m\n\u001b[0m",
      "\u001b[1;31mNameError\u001b[0m: name 'movie_info_result' is not defined"
     ]
    }
   ],
   "source": [
    "movie_info_result.head(1)"
   ]
  },
  {
   "cell_type": "code",
   "execution_count": 9,
   "metadata": {},
   "outputs": [
    {
     "data": {
      "text/plain": [
       "movieCd             0\n",
       "movieNm             0\n",
       "movieNmEn           0\n",
       "showTm            809\n",
       "prdtYear           95\n",
       "openDt          28289\n",
       "nationsNm           0\n",
       "genreNm             0\n",
       "directors_ko        0\n",
       "directors_en        0\n",
       "actors_ko           0\n",
       "actors_en           0\n",
       "cast                0\n",
       "castEn              0\n",
       "watchGradeNm        0\n",
       "dtype: int64"
      ]
     },
     "execution_count": 9,
     "metadata": {},
     "output_type": "execute_result"
    }
   ],
   "source": [
    "movie_info_result.isnull().sum()"
   ]
  },
  {
   "cell_type": "code",
   "execution_count": 53,
   "metadata": {},
   "outputs": [],
   "source": [
    "# movie_info_result.to_csv(\"movie_info_result.csv\", mode='w', encoding='utf-8', index=False)"
   ]
  },
  {
   "cell_type": "code",
   "execution_count": null,
   "metadata": {},
   "outputs": [],
   "source": [
    "########################################3\n",
    "# 오류값 찾기"
   ]
  },
  {
   "cell_type": "code",
   "execution_count": 33,
   "metadata": {},
   "outputs": [
    {
     "data": {
      "text/plain": [
       "46918"
      ]
     },
     "execution_count": 33,
     "metadata": {},
     "output_type": "execute_result"
    }
   ],
   "source": [
    "movie_list_result2 = pd.read_csv(\"../data-files/movie_list_result.csv\")\n",
    "len(movie_list_result2)"
   ]
  },
  {
   "cell_type": "code",
   "execution_count": 34,
   "metadata": {},
   "outputs": [],
   "source": [
    "movie_info_result2 = movie_info_result.reset_index()"
   ]
  },
  {
   "cell_type": "code",
   "execution_count": 35,
   "metadata": {},
   "outputs": [
    {
     "data": {
      "text/plain": [
       "0"
      ]
     },
     "execution_count": 35,
     "metadata": {},
     "output_type": "execute_result"
    }
   ],
   "source": [
    "movie_info_result2.head()\n",
    "index_list = movie_info_result2.groupby(by=[\"index\"])[\"index\"].count()\n",
    "(index_list > 1).sum()"
   ]
  },
  {
   "cell_type": "code",
   "execution_count": 36,
   "metadata": {},
   "outputs": [],
   "source": [
    "\n",
    "valid_movieCd = []\n",
    "\n",
    "for movieCd in movie_info_result['movieCd'].values:\n",
    "    try :\n",
    "        iMovieCd = int(movieCd)\n",
    "        valid_movieCd.append(iMovieCd)\n",
    "    except:\n",
    "        continue\n",
    "    "
   ]
  },
  {
   "cell_type": "code",
   "execution_count": 37,
   "metadata": {},
   "outputs": [
    {
     "data": {
      "text/plain": [
       "46918"
      ]
     },
     "execution_count": 37,
     "metadata": {},
     "output_type": "execute_result"
    }
   ],
   "source": [
    "len(valid_movieCd)"
   ]
  },
  {
   "cell_type": "code",
   "execution_count": 38,
   "metadata": {},
   "outputs": [],
   "source": [
    "missing_moviecd = []\n",
    "for movieCd in movie_list_result2[\"movieCd\"].values:\n",
    "    if movieCd not in valid_movieCd:\n",
    "        missing_moviecd.append(movieCd)"
   ]
  },
  {
   "cell_type": "code",
   "execution_count": 39,
   "metadata": {},
   "outputs": [
    {
     "name": "stdout",
     "output_type": "stream",
     "text": [
      "0\n"
     ]
    },
    {
     "data": {
      "text/plain": [
       "[]"
      ]
     },
     "execution_count": 39,
     "metadata": {},
     "output_type": "execute_result"
    }
   ],
   "source": [
    "print( len(missing_moviecd) )\n",
    "missing_moviecd"
   ]
  },
  {
   "cell_type": "code",
   "execution_count": 52,
   "metadata": {},
   "outputs": [
    {
     "data": {
      "text/plain": [
       "0"
      ]
     },
     "execution_count": 52,
     "metadata": {},
     "output_type": "execute_result"
    }
   ],
   "source": [
    "import numpy as np\n",
    "cnt_list = np.unique(movieCd_list, return_counts=True)\n",
    "# cnt_list = np.array(cnt_list)\n",
    "(cnt_list[1] > 1).sum()"
   ]
  }
 ],
 "metadata": {
  "interpreter": {
   "hash": "8c5dd95f0bc2b44acda648d53f33e6f9aa0436427618c774c6429bbc23eb0abc"
  },
  "kernelspec": {
   "display_name": "Python 3.7.11 64-bit ('kdigital-busan': conda)",
   "language": "python",
   "name": "python3"
  },
  "language_info": {
   "codemirror_mode": {
    "name": "ipython",
    "version": 3
   },
   "file_extension": ".py",
   "mimetype": "text/x-python",
   "name": "python",
   "nbconvert_exporter": "python",
   "pygments_lexer": "ipython3",
   "version": "3.7.11"
  },
  "orig_nbformat": 4
 },
 "nbformat": 4,
 "nbformat_minor": 2
}
