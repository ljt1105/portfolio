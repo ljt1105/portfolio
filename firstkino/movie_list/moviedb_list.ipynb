{
 "cells": [
  {
   "cell_type": "code",
   "execution_count": 2,
   "metadata": {},
   "outputs": [],
   "source": [
    "# 영화목록 데이터베이스 전처리 작업 파일"
   ]
  },
  {
   "cell_type": "code",
   "execution_count": 3,
   "metadata": {},
   "outputs": [],
   "source": [
    "import pandas as pd"
   ]
  },
  {
   "cell_type": "code",
   "execution_count": 4,
   "metadata": {},
   "outputs": [],
   "source": [
    "movie_list = pd.read_csv('../data-files/movie_list01.csv')\n"
   ]
  },
  {
   "cell_type": "code",
   "execution_count": 5,
   "metadata": {},
   "outputs": [
    {
     "name": "stdout",
     "output_type": "stream",
     "text": [
      "0\n",
      "0\n"
     ]
    }
   ],
   "source": [
    "# 장르별 \"성인물(에로)\" 제거\n",
    "movie_list_result = movie_list[~movie_list['genreAlt'].str.contains(\"성인물|에로\", na=False, case=False)]\n",
    "print(movie_list_result['genreAlt'].str.contains(\"성인물\", na=False, case=False).sum())\n",
    "print(movie_list_result['genreAlt'].str.contains(\"에로\", na=False, case=False).sum())"
   ]
  },
  {
   "cell_type": "code",
   "execution_count": 6,
   "metadata": {},
   "outputs": [
    {
     "name": "stdout",
     "output_type": "stream",
     "text": [
      "1833\n"
     ]
    }
   ],
   "source": [
    "print(movie_list_result['movieNm'].str.contains(\"섹스|스와핑|불륜|쾌락|미망인|동창|욕망|음란|음탕|누드|가슴큰|처제|형수|여대생|유부녀|노출|콜걸|애액|성감대|조교|섹귀|섹신|자위\", na=False, case=False).sum())"
   ]
  },
  {
   "cell_type": "code",
   "execution_count": 7,
   "metadata": {},
   "outputs": [
    {
     "name": "stdout",
     "output_type": "stream",
     "text": [
      "0\n"
     ]
    }
   ],
   "source": [
    "# 제목 성인물 관련 \"키워드\" 제거\n",
    "movie_list_result = movie_list_result[~movie_list_result['movieNm'].str.contains(\"섹스|스와핑|불륜|쾌락|미망인|동창|욕망|음란|음탕|누드|가슴큰|처제|형수|여대생|유부녀|노출|콜걸|애액|성감대|조교|섹귀|섹신|자위\", na=False, case=False)]\n",
    "print(movie_list_result['movieNm'].str.contains(\"섹스|스와핑|불륜|쾌락|미망인|동창|욕망|음란|음탕|누드|가슴큰|처제|형수|여대생|유부녀|노출|콜걸|애액|성감대|조교|섹귀|섹신|자위\", na=False, case=False).sum() )\n"
   ]
  },
  {
   "cell_type": "code",
   "execution_count": 8,
   "metadata": {},
   "outputs": [
    {
     "name": "stdout",
     "output_type": "stream",
     "text": [
      "0\n"
     ]
    }
   ],
   "source": [
    "print(movie_list_result['movieNm'].str.contains(\"섹스|스와핑|불륜|쾌락|미망인|동창|욕망|음란|음탕|누드|가슴큰|처제|형수|여대생|유부녀|노출\", na=False, case=False).sum() )"
   ]
  },
  {
   "cell_type": "code",
   "execution_count": 9,
   "metadata": {},
   "outputs": [
    {
     "name": "stdout",
     "output_type": "stream",
     "text": [
      "1124\n",
      "0\n"
     ]
    }
   ],
   "source": [
    "# 영화코드 성인물 영화 제거\n",
    "print(movie_list_result['movieCd'].str.contains(\"a|b|g|i\", na=False, case=False).sum())\n",
    "movie_list_result = movie_list_result[~movie_list_result['movieCd'].str.contains(\"a|b|g|i\", na=False, case=False)]\n",
    "print(movie_list_result['movieCd'].str.contains(\"a|b|g|i\", na=False, case=False).sum())"
   ]
  },
  {
   "cell_type": "code",
   "execution_count": 10,
   "metadata": {},
   "outputs": [],
   "source": [
    "# 단편, 영화제 관련 \"키워드\" 제거\n",
    "movie_list_result = movie_list_result[~movie_list_result['movieNm'].str.contains(\"영화제|본선|경쟁|섹션|단편|2021\", na=False, case=False)]"
   ]
  },
  {
   "cell_type": "code",
   "execution_count": 11,
   "metadata": {},
   "outputs": [
    {
     "name": "stdout",
     "output_type": "stream",
     "text": [
      "0\n",
      "0\n",
      "21312\n"
     ]
    }
   ],
   "source": [
    "# 단편, 영화제 관련 \"키워드\" 확인\n",
    "print(movie_list_result['movieNm'].str.contains(\"영화제|본선|경쟁|섹션|단편\", na=False, case=False).sum())\n",
    "print(movie_list_result['movieNm'].str.contains(\"영화제|본선|경쟁|섹션|단편|2021\", na=False, case=False).sum())\n",
    "print(movie_list_result['typeNm'].str.contains(\"단편\", na=False, case=False).sum())"
   ]
  },
  {
   "cell_type": "code",
   "execution_count": 12,
   "metadata": {},
   "outputs": [
    {
     "data": {
      "text/plain": [
       "53176"
      ]
     },
     "execution_count": 12,
     "metadata": {},
     "output_type": "execute_result"
    }
   ],
   "source": [
    "# 감독이 결측치 영화 제거\n",
    "# 특정한 컬럼이 NaN인 경우 drop 합니다.\n",
    "movie_list_result = movie_list_result.dropna(subset=['directors'])\n",
    "len(movie_list_result)"
   ]
  },
  {
   "cell_type": "code",
   "execution_count": 13,
   "metadata": {},
   "outputs": [
    {
     "data": {
      "text/plain": [
       "51593"
      ]
     },
     "execution_count": 13,
     "metadata": {},
     "output_type": "execute_result"
    }
   ],
   "source": [
    "# 영화장르 결측치 영화 제거\n",
    "# 특정한 컬럼이 NaN인 경우 drop 합니다.\n",
    "movie_list_result = movie_list_result.dropna(subset=['repGenreNm'])\n",
    "movie_list_result = movie_list_result.dropna(subset=['genreAlt'])\n",
    "len(movie_list_result)"
   ]
  },
  {
   "cell_type": "code",
   "execution_count": 14,
   "metadata": {},
   "outputs": [
    {
     "data": {
      "text/plain": [
       "movieCd            0\n",
       "directors          0\n",
       "movieNm            0\n",
       "movieNmEn       4541\n",
       "prdtYear         197\n",
       "openDt         30512\n",
       "typeNm            59\n",
       "prdtStatNm       148\n",
       "nationAlt         97\n",
       "repNationNm       91\n",
       "genreAlt           0\n",
       "repGenreNm         0\n",
       "dtype: int64"
      ]
     },
     "execution_count": 14,
     "metadata": {},
     "output_type": "execute_result"
    }
   ],
   "source": [
    "movie_list_result.isnull().sum()"
   ]
  },
  {
   "cell_type": "code",
   "execution_count": 15,
   "metadata": {},
   "outputs": [],
   "source": [
    "# 영화제목(영문) 결측치 제거\n",
    "movie_list_result = movie_list_result.dropna(subset=['movieNmEn'])"
   ]
  },
  {
   "cell_type": "code",
   "execution_count": 16,
   "metadata": {},
   "outputs": [],
   "source": [
    "# 영화국가 결측치 제거\n",
    "movie_list_result = movie_list_result.dropna(subset=['nationAlt'])\n",
    "movie_list_result = movie_list_result.dropna(subset=['repNationNm'])"
   ]
  },
  {
   "cell_type": "code",
   "execution_count": 17,
   "metadata": {},
   "outputs": [],
   "source": [
    "# 결측치 대체\n",
    "movie_list_result = movie_list_result.fillna(0)"
   ]
  },
  {
   "cell_type": "code",
   "execution_count": 18,
   "metadata": {},
   "outputs": [
    {
     "data": {
      "text/html": [
       "<div>\n",
       "<style scoped>\n",
       "    .dataframe tbody tr th:only-of-type {\n",
       "        vertical-align: middle;\n",
       "    }\n",
       "\n",
       "    .dataframe tbody tr th {\n",
       "        vertical-align: top;\n",
       "    }\n",
       "\n",
       "    .dataframe thead th {\n",
       "        text-align: right;\n",
       "    }\n",
       "</style>\n",
       "<table border=\"1\" class=\"dataframe\">\n",
       "  <thead>\n",
       "    <tr style=\"text-align: right;\">\n",
       "      <th></th>\n",
       "      <th>movieCd</th>\n",
       "      <th>directors</th>\n",
       "      <th>movieNm</th>\n",
       "      <th>movieNmEn</th>\n",
       "      <th>prdtYear</th>\n",
       "      <th>openDt</th>\n",
       "      <th>typeNm</th>\n",
       "      <th>prdtStatNm</th>\n",
       "      <th>nationAlt</th>\n",
       "      <th>repNationNm</th>\n",
       "      <th>genreAlt</th>\n",
       "      <th>repGenreNm</th>\n",
       "    </tr>\n",
       "  </thead>\n",
       "  <tbody>\n",
       "    <tr>\n",
       "      <th>4</th>\n",
       "      <td>20206061</td>\n",
       "      <td>콜린 트레보로우</td>\n",
       "      <td>쥬라기 월드: 도미니언</td>\n",
       "      <td>Jurassic World: Dominion</td>\n",
       "      <td>2022.0</td>\n",
       "      <td>0.0</td>\n",
       "      <td>장편</td>\n",
       "      <td>개봉예정</td>\n",
       "      <td>미국</td>\n",
       "      <td>미국</td>\n",
       "      <td>액션,어드벤처</td>\n",
       "      <td>액션</td>\n",
       "    </tr>\n",
       "    <tr>\n",
       "      <th>7</th>\n",
       "      <td>20210547</td>\n",
       "      <td>조 카나한</td>\n",
       "      <td>캅샵: 미친놈들의 전쟁</td>\n",
       "      <td>Copshop</td>\n",
       "      <td>2021.0</td>\n",
       "      <td>20211209.0</td>\n",
       "      <td>장편</td>\n",
       "      <td>개봉예정</td>\n",
       "      <td>미국</td>\n",
       "      <td>미국</td>\n",
       "      <td>액션,스릴러</td>\n",
       "      <td>액션</td>\n",
       "    </tr>\n",
       "    <tr>\n",
       "      <th>9</th>\n",
       "      <td>20211413</td>\n",
       "      <td>오윤동</td>\n",
       "      <td>몬스타엑스 : 더 드리밍</td>\n",
       "      <td>MONSTA X : THE DREAMING</td>\n",
       "      <td>2021.0</td>\n",
       "      <td>20211208.0</td>\n",
       "      <td>장편</td>\n",
       "      <td>개봉예정</td>\n",
       "      <td>한국</td>\n",
       "      <td>한국</td>\n",
       "      <td>다큐멘터리</td>\n",
       "      <td>다큐멘터리</td>\n",
       "    </tr>\n",
       "    <tr>\n",
       "      <th>10</th>\n",
       "      <td>20212027</td>\n",
       "      <td>알베르 뒤퐁텔</td>\n",
       "      <td>아듀</td>\n",
       "      <td>Bye Bye Morons</td>\n",
       "      <td>2020.0</td>\n",
       "      <td>0.0</td>\n",
       "      <td>장편</td>\n",
       "      <td>개봉예정</td>\n",
       "      <td>프랑스</td>\n",
       "      <td>프랑스</td>\n",
       "      <td>코미디,드라마</td>\n",
       "      <td>코미디</td>\n",
       "    </tr>\n",
       "    <tr>\n",
       "      <th>15</th>\n",
       "      <td>20212064</td>\n",
       "      <td>김지곤</td>\n",
       "      <td>여기, 나의 정원</td>\n",
       "      <td>Here, My Garden</td>\n",
       "      <td>2021.0</td>\n",
       "      <td>0.0</td>\n",
       "      <td>단편</td>\n",
       "      <td>기타</td>\n",
       "      <td>한국</td>\n",
       "      <td>한국</td>\n",
       "      <td>다큐멘터리</td>\n",
       "      <td>다큐멘터리</td>\n",
       "    </tr>\n",
       "    <tr>\n",
       "      <th>16</th>\n",
       "      <td>20212063</td>\n",
       "      <td>오민욱</td>\n",
       "      <td>라스트 나이트</td>\n",
       "      <td>Last Night</td>\n",
       "      <td>2015.0</td>\n",
       "      <td>0.0</td>\n",
       "      <td>단편</td>\n",
       "      <td>기타</td>\n",
       "      <td>한국</td>\n",
       "      <td>한국</td>\n",
       "      <td>다큐멘터리</td>\n",
       "      <td>다큐멘터리</td>\n",
       "    </tr>\n",
       "    <tr>\n",
       "      <th>17</th>\n",
       "      <td>20212042</td>\n",
       "      <td>오민욱</td>\n",
       "      <td>도림로 29길</td>\n",
       "      <td>Thick Forest</td>\n",
       "      <td>2019.0</td>\n",
       "      <td>0.0</td>\n",
       "      <td>단편</td>\n",
       "      <td>기타</td>\n",
       "      <td>한국</td>\n",
       "      <td>한국</td>\n",
       "      <td>다큐멘터리</td>\n",
       "      <td>다큐멘터리</td>\n",
       "    </tr>\n",
       "    <tr>\n",
       "      <th>18</th>\n",
       "      <td>20212062</td>\n",
       "      <td>손호목</td>\n",
       "      <td>추격의 목적</td>\n",
       "      <td>Purpose of Pursuit</td>\n",
       "      <td>2021.0</td>\n",
       "      <td>0.0</td>\n",
       "      <td>단편</td>\n",
       "      <td>기타</td>\n",
       "      <td>한국</td>\n",
       "      <td>한국</td>\n",
       "      <td>다큐멘터리</td>\n",
       "      <td>다큐멘터리</td>\n",
       "    </tr>\n",
       "    <tr>\n",
       "      <th>20</th>\n",
       "      <td>20212041</td>\n",
       "      <td>김지곤</td>\n",
       "      <td>월간-할매</td>\n",
       "      <td>Monthly-Grandma</td>\n",
       "      <td>2021.0</td>\n",
       "      <td>0.0</td>\n",
       "      <td>장편</td>\n",
       "      <td>기타</td>\n",
       "      <td>한국</td>\n",
       "      <td>한국</td>\n",
       "      <td>다큐멘터리</td>\n",
       "      <td>다큐멘터리</td>\n",
       "    </tr>\n",
       "    <tr>\n",
       "      <th>21</th>\n",
       "      <td>20136895</td>\n",
       "      <td>김영조</td>\n",
       "      <td>가족초상화 (리덕스)</td>\n",
       "      <td>My Family Portait (Redux)</td>\n",
       "      <td>2013.0</td>\n",
       "      <td>0.0</td>\n",
       "      <td>장편</td>\n",
       "      <td>기타</td>\n",
       "      <td>한국</td>\n",
       "      <td>한국</td>\n",
       "      <td>다큐멘터리</td>\n",
       "      <td>다큐멘터리</td>\n",
       "    </tr>\n",
       "  </tbody>\n",
       "</table>\n",
       "</div>"
      ],
      "text/plain": [
       "     movieCd directors        movieNm                  movieNmEn  prdtYear  \\\n",
       "4   20206061  콜린 트레보로우   쥬라기 월드: 도미니언   Jurassic World: Dominion    2022.0   \n",
       "7   20210547     조 카나한   캅샵: 미친놈들의 전쟁                    Copshop    2021.0   \n",
       "9   20211413       오윤동  몬스타엑스 : 더 드리밍    MONSTA X : THE DREAMING    2021.0   \n",
       "10  20212027   알베르 뒤퐁텔             아듀             Bye Bye Morons    2020.0   \n",
       "15  20212064       김지곤      여기, 나의 정원            Here, My Garden    2021.0   \n",
       "16  20212063       오민욱        라스트 나이트                 Last Night    2015.0   \n",
       "17  20212042       오민욱        도림로 29길               Thick Forest    2019.0   \n",
       "18  20212062       손호목         추격의 목적         Purpose of Pursuit    2021.0   \n",
       "20  20212041       김지곤          월간-할매            Monthly-Grandma    2021.0   \n",
       "21  20136895       김영조    가족초상화 (리덕스)  My Family Portait (Redux)    2013.0   \n",
       "\n",
       "        openDt typeNm prdtStatNm nationAlt repNationNm genreAlt repGenreNm  \n",
       "4          0.0     장편       개봉예정        미국          미국  액션,어드벤처         액션  \n",
       "7   20211209.0     장편       개봉예정        미국          미국   액션,스릴러         액션  \n",
       "9   20211208.0     장편       개봉예정        한국          한국    다큐멘터리      다큐멘터리  \n",
       "10         0.0     장편       개봉예정       프랑스         프랑스  코미디,드라마        코미디  \n",
       "15         0.0     단편         기타        한국          한국    다큐멘터리      다큐멘터리  \n",
       "16         0.0     단편         기타        한국          한국    다큐멘터리      다큐멘터리  \n",
       "17         0.0     단편         기타        한국          한국    다큐멘터리      다큐멘터리  \n",
       "18         0.0     단편         기타        한국          한국    다큐멘터리      다큐멘터리  \n",
       "20         0.0     장편         기타        한국          한국    다큐멘터리      다큐멘터리  \n",
       "21         0.0     장편         기타        한국          한국    다큐멘터리      다큐멘터리  "
      ]
     },
     "execution_count": 18,
     "metadata": {},
     "output_type": "execute_result"
    }
   ],
   "source": [
    "movie_list_result.head(10)"
   ]
  },
  {
   "cell_type": "code",
   "execution_count": 19,
   "metadata": {},
   "outputs": [],
   "source": [
    "# prdtYear 컬럼 년도 형식 변경\n",
    "\n",
    "movie_list_result['prdtYear'] = movie_list_result['prdtYear'].fillna(0)\n",
    "movie_list_result['prdtYear'].isna().sum()\n",
    "\n",
    "movie_list_result['prdtYear'] = movie_list_result['prdtYear'].astype('int').astype('str')\n",
    "movie_list_result['prdtYear'] = movie_list_result['prdtYear'].astype('int').astype('str')\n",
    "\n",
    "# openDt 컬럼 년도 형식 변경\n",
    "\n",
    "movie_list_result['openDt'] = movie_list_result['openDt'].fillna(0)\n",
    "movie_list_result['openDt'].isna().sum()\n",
    "\n",
    "movie_list_result['openDt'] = movie_list_result['openDt'].astype('int').astype('str')\n",
    "movie_list_result['openDt'] = movie_list_result['openDt'].astype('int').astype('str')"
   ]
  },
  {
   "cell_type": "code",
   "execution_count": 20,
   "metadata": {},
   "outputs": [
    {
     "data": {
      "text/plain": [
       "46932"
      ]
     },
     "execution_count": 20,
     "metadata": {},
     "output_type": "execute_result"
    }
   ],
   "source": [
    "# 영화제목 국문 & 감독 중복값\n",
    "type(movie_list_result)\n",
    "movie_list_result = movie_list_result.drop_duplicates(subset=['movieNm', 'directors'], keep='first')\n",
    "\n",
    "len(movie_list_result)"
   ]
  },
  {
   "cell_type": "code",
   "execution_count": 21,
   "metadata": {},
   "outputs": [],
   "source": [
    "# 영화코드 중복값 제거\n",
    "movie_list_result = movie_list_result.drop_duplicates(subset=['movieCd'], keep='first')"
   ]
  },
  {
   "cell_type": "code",
   "execution_count": 22,
   "metadata": {},
   "outputs": [
    {
     "data": {
      "text/plain": [
       "46932"
      ]
     },
     "execution_count": 22,
     "metadata": {},
     "output_type": "execute_result"
    }
   ],
   "source": [
    "len(movie_list_result)\n"
   ]
  },
  {
   "cell_type": "code",
   "execution_count": 23,
   "metadata": {},
   "outputs": [],
   "source": [
    "# 영화상세보기 크롤링 오류파일 movieCd 제거\n",
    "movie_list_result = movie_list_result[~movie_list_result['movieCd'].str.contains(\"20191834|20196794|20189242|20171685|20161747|19990086|20126624|19991013|20011110|20051184|20124378|19848199|19930183|19990049\", na=False, case=False)]"
   ]
  },
  {
   "cell_type": "code",
   "execution_count": 24,
   "metadata": {},
   "outputs": [
    {
     "data": {
      "text/plain": [
       "46918"
      ]
     },
     "execution_count": 24,
     "metadata": {},
     "output_type": "execute_result"
    }
   ],
   "source": [
    "len(movie_list_result)"
   ]
  },
  {
   "cell_type": "code",
   "execution_count": 25,
   "metadata": {},
   "outputs": [],
   "source": [
    "#csv 파일 생성\n",
    "movie_list_result.to_csv(\"movie_list_result.csv\", mode='w', encoding='utf-8', index=False)"
   ]
  },
  {
   "cell_type": "code",
   "execution_count": 219,
   "metadata": {},
   "outputs": [],
   "source": [
    "################################################3"
   ]
  },
  {
   "cell_type": "code",
   "execution_count": 220,
   "metadata": {},
   "outputs": [
    {
     "data": {
      "text/plain": [
       "4        액션,어드벤처\n",
       "7         액션,스릴러\n",
       "9          다큐멘터리\n",
       "10       코미디,드라마\n",
       "15         다큐멘터리\n",
       "          ...   \n",
       "84914      다큐멘터리\n",
       "84944        드라마\n",
       "84949        드라마\n",
       "84950        드라마\n",
       "84958        드라마\n",
       "Name: genreAlt, Length: 46963, dtype: object"
      ]
     },
     "execution_count": 220,
     "metadata": {},
     "output_type": "execute_result"
    }
   ],
   "source": [
    "movie_list_result['genreAlt']"
   ]
  },
  {
   "cell_type": "code",
   "execution_count": null,
   "metadata": {},
   "outputs": [],
   "source": []
  },
  {
   "cell_type": "code",
   "execution_count": null,
   "metadata": {},
   "outputs": [],
   "source": []
  }
 ],
 "metadata": {
  "interpreter": {
   "hash": "8c5dd95f0bc2b44acda648d53f33e6f9aa0436427618c774c6429bbc23eb0abc"
  },
  "kernelspec": {
   "display_name": "Python 3.7.11 64-bit ('kdigital-busan': conda)",
   "language": "python",
   "name": "python3"
  },
  "language_info": {
   "codemirror_mode": {
    "name": "ipython",
    "version": 3
   },
   "file_extension": ".py",
   "mimetype": "text/x-python",
   "name": "python",
   "nbconvert_exporter": "python",
   "pygments_lexer": "ipython3",
   "version": "3.7.11"
  },
  "orig_nbformat": 4
 },
 "nbformat": 4,
 "nbformat_minor": 2
}
