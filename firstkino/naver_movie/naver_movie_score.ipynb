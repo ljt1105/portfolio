{
 "cells": [
  {
   "cell_type": "code",
   "execution_count": 1,
   "metadata": {},
   "outputs": [],
   "source": [
    "#패키지 준비\n",
    "\n",
    "import requests\n",
    "from bs4 import BeautifulSoup\n",
    "import time\n",
    "import pandas as pd"
   ]
  },
  {
   "cell_type": "code",
   "execution_count": 2,
   "metadata": {},
   "outputs": [],
   "source": [
    "#네이버 평점순 순위 페이지 1~40에 있는 영화명과 평점을 가져오는 작업\n",
    "\n",
    "url = \"https://movie.naver.com/movie/sdb/rank/rmovie.naver?sel=pnt&date=20211122&page={0}\"\n",
    "page = 1\n",
    "movieNm = []\n",
    "naverScore = []\n",
    "\n",
    "while True:\n",
    "    response = requests.get(url.format(page))\n",
    "    soup = BeautifulSoup(response.text)\n",
    "    movies = soup.select(\"#old_content .list_ranking tbody tr\")\n",
    "\n",
    "    if movies is None or len(movies) == 0:\n",
    "        break\n",
    "\n",
    "    for movie in movies:\n",
    "        if len(movie.select('td')) == 1:\n",
    "            continue\n",
    "\n",
    "        title = movie.select_one('.title .tit5 a').get_text()\n",
    "        score = movie.select_one('.point').get_text()\n",
    "        movieNm.append(title)\n",
    "        naverScore.append(score)\n",
    "        \n",
    "    page += 1\n",
    "    time.sleep(2)\n",
    "\n",
    "    if page == 41:\n",
    "        break"
   ]
  },
  {
   "cell_type": "code",
   "execution_count": 3,
   "metadata": {},
   "outputs": [
    {
     "name": "stdout",
     "output_type": "stream",
     "text": [
      "                  movieNm naverScore\n",
      "0                      밥정       9.61\n",
      "1                    그린 북       9.60\n",
      "2                    가버나움       9.59\n",
      "3  디지몬 어드벤처 라스트 에볼루션 : 인연       9.54\n",
      "4                 베일리 어게인       9.53\n",
      "<class 'pandas.core.frame.DataFrame'>\n",
      "RangeIndex: 50 entries, 0 to 49\n",
      "Data columns (total 2 columns):\n",
      " #   Column      Non-Null Count  Dtype \n",
      "---  ------      --------------  ----- \n",
      " 0   movieNm     50 non-null     object\n",
      " 1   naverScore  50 non-null     object\n",
      "dtypes: object(2)\n",
      "memory usage: 928.0+ bytes\n",
      "None\n"
     ]
    }
   ],
   "source": [
    "#수집한 데이터를 데이터프레임 형식으로 저장하여 utf-8로 인코딩 후, csv 파일로 저장\n",
    "\n",
    "df = pd.DataFrame({'movieNm':movieNm, 'naverScore':naverScore})\n",
    "print(df.head())\n",
    "print(df.info())\n",
    "df.to_csv('naverScore.csv', encoding='utf-8')\n"
   ]
  }
 ],
 "metadata": {
  "interpreter": {
   "hash": "cdd1e8f8fb579aa66e0f484f6a6cae2d458c9dc791e8ddee7766d0a93b0cffce"
  },
  "kernelspec": {
   "display_name": "Python 3.8.12 64-bit ('new-env': conda)",
   "language": "python",
   "name": "python3"
  },
  "language_info": {
   "codemirror_mode": {
    "name": "ipython",
    "version": 3
   },
   "file_extension": ".py",
   "mimetype": "text/x-python",
   "name": "python",
   "nbconvert_exporter": "python",
   "pygments_lexer": "ipython3",
   "version": "3.8.12"
  },
  "orig_nbformat": 4
 },
 "nbformat": 4,
 "nbformat_minor": 2
}
